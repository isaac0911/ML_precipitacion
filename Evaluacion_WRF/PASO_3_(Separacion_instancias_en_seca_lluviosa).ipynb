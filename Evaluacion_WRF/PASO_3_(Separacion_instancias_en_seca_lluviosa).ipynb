{
 "cells": [
  {
   "cell_type": "markdown",
   "id": "beb85e31",
   "metadata": {},
   "source": [
    "En este código se importa la base de datos con los pronósticos de WRF en comparación con los valores reales de precipitación, llamada 'DataWRF.xlsx'. La base de datos se divide en dos: por un lado, las intancias que pertenecen a la época lluviosa, y por otro, los que pertenecen a la época seca.\n",
    "\n",
    "Ésto servirá para poder hacer la evaluación de WRF para cada época del año."
   ]
  },
  {
   "cell_type": "markdown",
   "id": "57ccbbd6",
   "metadata": {},
   "source": [
    "# IMPORTACIÓN DE DATOS Y LIBRERÍAS"
   ]
  },
  {
   "cell_type": "code",
   "execution_count": null,
   "id": "714506d9",
   "metadata": {},
   "outputs": [],
   "source": [
    "import pandas as pd\n",
    "import numpy as np"
   ]
  },
  {
   "cell_type": "code",
   "execution_count": null,
   "id": "1eda32ec",
   "metadata": {},
   "outputs": [],
   "source": [
    "Pronosticos_WRF = pd.read_excel('DataWRF.xlsx')"
   ]
  },
  {
   "cell_type": "markdown",
   "id": "5fb5c6c8",
   "metadata": {},
   "source": [
    "# SEPARACIÓN EN ÉPOCA LLUVIOSA Y SECA"
   ]
  },
  {
   "cell_type": "code",
   "execution_count": null,
   "id": "47d0ba7f",
   "metadata": {},
   "outputs": [],
   "source": [
    "# Definir los meses de cada época\n",
    "epoca_lluviosa = [5, 6, 7, 8, 9, 10]  # Mayo a Octubre\n",
    "epoca_seca = [11, 12, 1, 2, 3, 4]     # Noviembre a Abril\n",
    "\n",
    "# Filtrar los datos por época lluviosa y época seca\n",
    "Pronósticos_WRF_lluviosa = Pronosticos_WRF[Pronosticos_WRF['Mes'].isin(epoca_lluviosa)]\n",
    "Pronósticos_WRF_seca = Pronosticos_WRF[Pronosticos_WRF['Mes'].isin(epoca_seca)]"
   ]
  },
  {
   "cell_type": "markdown",
   "id": "6a1fdcd6",
   "metadata": {},
   "source": [
    "# EXPORTACIÓN A ARCHIVOS EN FORMATO EXCEL"
   ]
  },
  {
   "cell_type": "code",
   "execution_count": null,
   "id": "e29ea517",
   "metadata": {},
   "outputs": [],
   "source": [
    "Pronosticos_WRF.to_excel('WRF_AllData.xlsx', index=False)\n",
    "Pronósticos_WRF_lluviosa.to_excel('WRF_RainyData.xlsx', index=False)\n",
    "Pronósticos_WRF_seca.to_excel('WRF_DryData.xlsx', index=False)"
   ]
  },
  {
   "cell_type": "code",
   "execution_count": null,
   "id": "be621177",
   "metadata": {},
   "outputs": [],
   "source": []
  }
 ],
 "metadata": {
  "kernelspec": {
   "display_name": "Python 3 (ipykernel)",
   "language": "python",
   "name": "python3"
  },
  "language_info": {
   "codemirror_mode": {
    "name": "ipython",
    "version": 3
   },
   "file_extension": ".py",
   "mimetype": "text/x-python",
   "name": "python",
   "nbconvert_exporter": "python",
   "pygments_lexer": "ipython3",
   "version": "3.12.3"
  }
 },
 "nbformat": 4,
 "nbformat_minor": 5
}
