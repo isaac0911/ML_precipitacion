{
 "cells": [
  {
   "cell_type": "markdown",
   "id": "beb85e31",
   "metadata": {},
   "source": [
    "En este código se importa la base de datos que contiene los pronósticos realizados por WRF, así como los valores reales de precipitación que se midieron. Estos datos corresponden a la época lluviosa (mayo-octubre)\n",
    "\n",
    "Se realiza la evaluación de las variables objetivo:\n",
    "\n",
    "1. Anomalía absoluta de precipitación del día siguiente, respecto de la Climatología (Variable continua):\n",
    "\n",
    "    Se calcula el MAE y MdAE\n",
    "\n",
    "\n",
    "2. Clasificación binaria de la precipitación del día siguiente como =0 ó >0 (Variable categórica):\n",
    "\n",
    "    Se construyela matriz de confusión\n",
    "    \n",
    "    \n",
    "3. Nivel cualitativo de precipitación del día siguiente en términos de los percentiles de la Climatología (Variable categórica):\n",
    "\n",
    "    Se construye la matriz de confusión"
   ]
  },
  {
   "cell_type": "markdown",
   "id": "d85e657b",
   "metadata": {},
   "source": [
    "# IMPORTACIÓN DE DATOS Y LIBRERÍAS"
   ]
  },
  {
   "cell_type": "code",
   "execution_count": null,
   "id": "ae067641",
   "metadata": {},
   "outputs": [],
   "source": [
    "import pandas as pd\n",
    "import numpy as np\n",
    "from sklearn.metrics import mean_squared_error, mean_absolute_error, median_absolute_error, r2_score\n",
    "from sklearn.metrics import confusion_matrix"
   ]
  },
  {
   "cell_type": "code",
   "execution_count": null,
   "id": "ee2dc863",
   "metadata": {},
   "outputs": [],
   "source": [
    "# Cargar datos desde Excel\n",
    "WRF_RainyData = pd.read_excel('WRF_RainyData.xlsx')\n",
    "\n",
    "print(WRF_RainyData)"
   ]
  },
  {
   "cell_type": "markdown",
   "id": "5548c321",
   "metadata": {},
   "source": [
    "# EVALUACIÓN DE LA VARIABLE 1: ANOMALÍA DE PRECIPITACIÓN"
   ]
  },
  {
   "cell_type": "code",
   "execution_count": null,
   "id": "7119c945",
   "metadata": {},
   "outputs": [],
   "source": [
    "# Obtención de datos\n",
    "\n",
    "real = WRF_RainyData['Anom_prec_mañana_Real']\n",
    "predicho = WRF_RainyData['Anom_prec_mañana_WRF']"
   ]
  },
  {
   "cell_type": "code",
   "execution_count": null,
   "id": "8a89a4ff",
   "metadata": {},
   "outputs": [],
   "source": [
    "# Calcular MAE (Media del Error Absoluto) y MdAE (Mediana del Error Absoluto)\n",
    "mae = mean_absolute_error(real, predicho)\n",
    "mdae = median_absolute_error(real, predicho)"
   ]
  },
  {
   "cell_type": "code",
   "execution_count": null,
   "id": "0f856c3a",
   "metadata": {},
   "outputs": [],
   "source": [
    "print(f\"La evaluación de WRF para la anomalía de precipitación ha dado como resultado: \\n\\nMAE: {mae}\\nMdAE: {mdae}\")"
   ]
  },
  {
   "cell_type": "markdown",
   "id": "bf162898",
   "metadata": {},
   "source": [
    "# EVALUACIÓN DE LA VARIABLE 2: CLASIFICACIÓN BINARIA"
   ]
  },
  {
   "cell_type": "code",
   "execution_count": null,
   "id": "ca315242",
   "metadata": {},
   "outputs": [],
   "source": [
    "# Obtención de datos\n",
    "\n",
    "real_LluviaBinaria = WRF_RainyData['Lluvia_Binaria_Real']\n",
    "predicho_LluviaBinaria = WRF_RainyData['Lluvia_Binaria_WRF']"
   ]
  },
  {
   "cell_type": "code",
   "execution_count": null,
   "id": "9dcd368d",
   "metadata": {},
   "outputs": [],
   "source": [
    "# Generar la matriz de confusión\n",
    "ConfusionMatrix_LluviaBinaria = confusion_matrix(real_LluviaBinaria, predicho_LluviaBinaria)\n",
    "\n",
    "print(f\"Matriz de confusión para la lluvia binaria: \\n\\n{ConfusionMatrix_LluviaBinaria}\")"
   ]
  },
  {
   "cell_type": "markdown",
   "id": "a631fb42",
   "metadata": {},
   "source": [
    "# EVALUACIÓN DE LA VARIABLE 3: CLASIFICACIÓN POR PERCENTIL"
   ]
  },
  {
   "cell_type": "code",
   "execution_count": null,
   "id": "f72cdc2a",
   "metadata": {},
   "outputs": [],
   "source": [
    "# Obtención de datos\n",
    "\n",
    "real_Percentiles = WRF_RainyData['percentil_Real']\n",
    "predicho_Percentiles = WRF_RainyData['percentil_WRF']"
   ]
  },
  {
   "cell_type": "code",
   "execution_count": null,
   "id": "0dde055b",
   "metadata": {},
   "outputs": [],
   "source": [
    "# Generar la matriz de confusión\n",
    "ConfusionMatrix_Percentiles = confusion_matrix(real_Percentiles, predicho_Percentiles)\n",
    "\n",
    "print(f\"Matriz de confusión para las cotas fijas: \\n\\n{ConfusionMatrix_Percentiles}\")"
   ]
  },
  {
   "cell_type": "code",
   "execution_count": null,
   "id": "564da14a",
   "metadata": {},
   "outputs": [],
   "source": []
  }
 ],
 "metadata": {
  "kernelspec": {
   "display_name": "Python 3 (ipykernel)",
   "language": "python",
   "name": "python3"
  },
  "language_info": {
   "codemirror_mode": {
    "name": "ipython",
    "version": 3
   },
   "file_extension": ".py",
   "mimetype": "text/x-python",
   "name": "python",
   "nbconvert_exporter": "python",
   "pygments_lexer": "ipython3",
   "version": "3.12.3"
  }
 },
 "nbformat": 4,
 "nbformat_minor": 5
}
