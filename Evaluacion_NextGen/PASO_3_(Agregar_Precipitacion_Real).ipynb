{
 "cells": [
  {
   "cell_type": "markdown",
   "id": "beb85e31",
   "metadata": {},
   "source": [
    "En este código se importa la base de datos \"Datos_Climatologicos_Unificados.xlsx\", que contiene el valor real de precipitación diaria para cada estación desde 01-ene-1980 hasta 09-nov-2024. También se importa la base de datos \"PronósticosNextGen.xlsx\", que contiene el pronóstico del modelo NextGen para la precipitación acumulada por período estacional en cada una de las diferentes estaciones meteorológicas. Finalmente se importa \"Climatologia_por_Periodos_Estacionales.xlsx\", que contiene la media y los percentiles 1/3 y 2/3 para el conjunto de precipitaciones acumuladas de la Climatología (1991-2020) para cada período estacional en las diferentes estaciones meteorológicas.\n",
    "\n",
    "Para cada estación meteorológica y período estacional en la base de datos \"PronósticosNextGen.xlsx\", se va a calcular el valor de precipitación acumulada real correspondiente en \"Datos_Climatologicos_Unificados.xlsx\", y también se busca la media y percentiles en la base de datos \"Climatologia_por_Periodos_Estacionales.xlsx\", con lo que se puede definir el valor para la variable objetivo:\n",
    "\n",
    "- Clasificación de la precipitación del día siguiente en cotas percentiles\n",
    "\n",
    "El valor de esta variable se inserta como una nueva columna en el dataframe \"PronósticosNextGen.xlsx\", el cual se exporta al final con el nombre \"DataNextGen.xlsx\""
   ]
  },
  {
   "cell_type": "markdown",
   "id": "7c856031",
   "metadata": {},
   "source": [
    "# IMPORTACIÓN DE DATOS Y LIBRERÍAS"
   ]
  },
  {
   "cell_type": "code",
   "execution_count": null,
   "id": "07cb6a4c",
   "metadata": {},
   "outputs": [],
   "source": [
    "import pandas as pd\n",
    "import numpy as np"
   ]
  },
  {
   "cell_type": "code",
   "execution_count": null,
   "id": "0fc247c5",
   "metadata": {},
   "outputs": [],
   "source": [
    "# Cargar datos desde Excel\n",
    "\n",
    "climatologia_df = pd.read_excel('Climatologia_por_Periodos_Estacionales.xlsx')  # Archivo con climatología (media y percentiles de PrecAcum para cada estación meteorológica en los diferentes períodos estacionales)\n",
    "Datos_Reales = pd.read_excel('Datos_Climatologicos_Unificados.xlsx') # Datos de precipitación diaria reales\n",
    "PronosticosNextGen = pd.read_excel('PronósticosNextGen.xlsx') # Contiene la variable objetivo predicha por NextGen"
   ]
  },
  {
   "cell_type": "code",
   "execution_count": null,
   "id": "ff6e40d8",
   "metadata": {},
   "outputs": [],
   "source": [
    "print(climatologia_df)\n",
    "print(Datos_Reales)\n",
    "print(PronosticosNextGen)"
   ]
  },
  {
   "cell_type": "markdown",
   "id": "497a0bc7",
   "metadata": {},
   "source": [
    "# DEFINICIÓN DE FUNCIONES"
   ]
  },
  {
   "cell_type": "code",
   "execution_count": null,
   "id": "29604c0f",
   "metadata": {},
   "outputs": [],
   "source": [
    "# Calcular el acumulado de precipitación para una estación meteorológica en un período estacional definido\n",
    "\n",
    "def Calcular_prec_acum(estacion, Periodo, Año):\n",
    "    \n",
    "    # Creamos un filtro para la estación seleccionada\n",
    "    filtro_estacion = Datos_Reales['ESTACIÓN'] == estacion\n",
    "    \n",
    "    # Creamos el rango de fechas dependiendo del período seleccionado\n",
    "    if Periodo == 'MJJ':\n",
    "        # Mayo, Junio, Julio del año X\n",
    "        fecha_inicio = f'{Año}-05-01'\n",
    "        fecha_fin = f'{Año}-07-31'\n",
    "    elif Periodo == 'ASO':\n",
    "        # Agosto, Septiembre, Octubre del año X\n",
    "        fecha_inicio = f'{Año}-08-01'\n",
    "        fecha_fin = f'{Año}-10-31'\n",
    "    elif Periodo == 'DEFM':\n",
    "        # Diciembre del año X-1 y Enero, Febrero, Marzo del año X\n",
    "        fecha_inicio = f'{Año-1}-12-01'\n",
    "        fecha_fin = f'{Año}-03-31'\n",
    "        \n",
    "    # Creamos el filtro de fechas\n",
    "    filtro_fecha = (Datos_Reales['FECHA'] >= fecha_inicio) & (Datos_Reales['FECHA'] <= fecha_fin)\n",
    "    \n",
    "    # Filtramos los datos\n",
    "    datos_filtrados = Datos_Reales[filtro_estacion & filtro_fecha]\n",
    "    \n",
    "    # Calculamos el acumulado de lluvia en el período especificado\n",
    "    acumulado_lluvia = datos_filtrados['PRECIPITACIÓN'].sum()\n",
    "    \n",
    "    return acumulado_lluvia"
   ]
  },
  {
   "cell_type": "code",
   "execution_count": null,
   "id": "6ddc035b",
   "metadata": {},
   "outputs": [],
   "source": [
    "# Función para clasificar por percentiles\n",
    "\n",
    "def clasificar_percentiles(prec_Acum, p1_3, p2_3):\n",
    "    if p1_3 == 0 and p2_3 == 0:\n",
    "        return 0\n",
    "    else:\n",
    "        if prec_Acum <= p1_3:\n",
    "            return -1\n",
    "        elif prec_Acum >= p2_3:\n",
    "            return 1\n",
    "        else:\n",
    "            return 0"
   ]
  },
  {
   "cell_type": "markdown",
   "id": "297947a0",
   "metadata": {},
   "source": [
    "# PROCESAMIENTO DE DATOS"
   ]
  },
  {
   "cell_type": "code",
   "execution_count": null,
   "id": "df6293c5",
   "metadata": {},
   "outputs": [],
   "source": [
    "DataNextGen = PronosticosNextGen.copy()\n",
    "\n",
    "# Inicializar la nueva columna\n",
    "DataNextGen['percentil_Real'] = None\n",
    "\n",
    "# Iterar sobre las filas de los pronósticos\n",
    "for i, row in DataNextGen.iterrows():\n",
    "    \n",
    "    # Obtener la estación y la fecha de la fila actual\n",
    "    estacion = row['Estacion']\n",
    "    Periodo = row['Periodo']\n",
    "    Año = row['Año']\n",
    "    \n",
    "    # Buscar el valor real de precipitación acumulada en Datos_Reales para esa estación, año, y período\n",
    "    precipAcum_real = Calcular_prec_acum(estacion, Periodo, Año)\n",
    "    \n",
    "    # Buscar la media y los percentiles en climatologia_df para esa estación y fecha\n",
    "    climatologia = climatologia_df[(climatologia_df['ESTACIÓN'] == estacion) & (climatologia_df['Periodo_estacional'] == Periodo)]\n",
    "    \n",
    "    # Obtener la media y percentiles del dataframe climatologia_df\n",
    "    media = climatologia['Media'].values[0]\n",
    "    p1_3 = climatologia['Percentil_1_3'].values[0]\n",
    "    p2_3 = climatologia['Percentil_2_3'].values[0]\n",
    "    \n",
    "    # Ejecutar la función para calcular la variable objetivo real\n",
    "    clasificacion_percentiles = clasificar_percentiles(precipAcum_real, p1_3, p2_3)\n",
    "    \n",
    "    # Almacenar los resultados en la nueva columna de DataNextGen\n",
    "    DataNextGen.at[i, 'percentil_Real'] = clasificacion_percentiles"
   ]
  },
  {
   "cell_type": "code",
   "execution_count": null,
   "id": "732a4d16",
   "metadata": {},
   "outputs": [],
   "source": [
    "# Exportar a Excel\n",
    "DataNextGen.to_excel('DataNextGen.xlsx', index=False)"
   ]
  },
  {
   "cell_type": "code",
   "execution_count": null,
   "id": "e003778c",
   "metadata": {},
   "outputs": [],
   "source": []
  }
 ],
 "metadata": {
  "kernelspec": {
   "display_name": "Python 3 (ipykernel)",
   "language": "python",
   "name": "python3"
  },
  "language_info": {
   "codemirror_mode": {
    "name": "ipython",
    "version": 3
   },
   "file_extension": ".py",
   "mimetype": "text/x-python",
   "name": "python",
   "nbconvert_exporter": "python",
   "pygments_lexer": "ipython3",
   "version": "3.12.3"
  }
 },
 "nbformat": 4,
 "nbformat_minor": 5
}
