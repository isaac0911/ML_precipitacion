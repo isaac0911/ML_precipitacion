{
 "cells": [
  {
   "cell_type": "markdown",
   "id": "beb85e31",
   "metadata": {},
   "source": [
    "En este código se importa la base de datos \"Datos_Climatologicos_Unificados.xlsx\", que contiene el valor real de precipitación para cada estación desde 01-ene-1980 hasta 09-nov-2024. También se importa la base de datos \"PronósticosWRF.xlsx\", que contiene el pronóstico del modelo WRF para las diferentes estaciones en diferentes días. Finalmente se importa \"Percentiles.xlsx\", que contiene la media y los percentiles 1/3 y 2/3 para el conjunto de precipitaciones de la Climatología (1991-2020) en cada día del año en las diferentes estaciones meteorológicas.\n",
    "\n",
    "Para cada estación y día en la base de datos \"PronósticosWRF.xlsx\", se va a buscar el valor de precipitación real correspondiente en \"Datos_Climatologicos_Unificados.xlsx\", y también se busca la media y percentiles en la base de datos \"Percentiles.xlsx\", con lo que se puede definir el valor para las variables objetivo:\n",
    "\n",
    "- Anomalía de precipitación del día siguiente con respecto al promedio de la Climatología\n",
    "- Clasificación binaria de la precipitación del día siguiente como =0 ó >0\n",
    "- Clasificación de la precipitación del día siguiente en cotas percentiles\n",
    "\n",
    "El valor de estas variables se inserta como nuevas columnas en el dataframe \"PronósticosWRF.xlsx\", el cual se exporta al final con el nombre \"DataWRF.xlsx\""
   ]
  },
  {
   "cell_type": "markdown",
   "id": "1dc54381",
   "metadata": {},
   "source": [
    "# IMPORTACIÓN DE DATOS Y LIBRERÍAS"
   ]
  },
  {
   "cell_type": "code",
   "execution_count": null,
   "id": "b7ac0219",
   "metadata": {},
   "outputs": [],
   "source": [
    "import pandas as pd\n",
    "import numpy as np\n",
    "import datetime"
   ]
  },
  {
   "cell_type": "code",
   "execution_count": null,
   "id": "57ba77c1",
   "metadata": {},
   "outputs": [],
   "source": [
    "# Cargar datos desde Excel\n",
    "\n",
    "climatologia_df = pd.read_excel('Percentiles.xlsx')  # Archivo con climatología (media y percentiles para cada estación en cada día del año)\n",
    "Datos_Reales = pd.read_excel('Datos_Climatologicos_Unificados.xlsx') # Datos de precipitación reales\n",
    "PronosticosWRF = pd.read_excel('PronósticosWRF.xlsx') # Contiene las tres variables objetivo predichas por WRF"
   ]
  },
  {
   "cell_type": "markdown",
   "id": "bc67acf8",
   "metadata": {},
   "source": [
    "# DEFINICIÓN DE FUNCIONES"
   ]
  },
  {
   "cell_type": "code",
   "execution_count": null,
   "id": "fd1abc22",
   "metadata": {},
   "outputs": [],
   "source": [
    "# Función para calcular anomalía de precipitación\n",
    "\n",
    "def anom_prec(prec, media):\n",
    "    anom = prec - media\n",
    "    suma = anom + media\n",
    "    if suma < 0:\n",
    "        anom = -media\n",
    "    return anom"
   ]
  },
  {
   "cell_type": "code",
   "execution_count": null,
   "id": "4032833f",
   "metadata": {},
   "outputs": [],
   "source": [
    "# Función de clasificación binaria de la lluvia como =0 ó >0\n",
    "\n",
    "def Lluvia_binaria(prec):\n",
    "    if prec == 0:\n",
    "        return 0\n",
    "    else:\n",
    "        return 1"
   ]
  },
  {
   "cell_type": "code",
   "execution_count": null,
   "id": "0061ce47",
   "metadata": {},
   "outputs": [],
   "source": [
    "# Función para clasificar por percentiles\n",
    "\n",
    "def clasificar_percentiles(prec, p1_3, p2_3):\n",
    "    if p1_3 == 0 and p2_3 == 0 and prec == 0:\n",
    "        return 0\n",
    "    else:\n",
    "        if prec <= p1_3:\n",
    "            return -1\n",
    "        elif prec >= p2_3:\n",
    "            return 1\n",
    "        else:\n",
    "            return 0"
   ]
  },
  {
   "cell_type": "markdown",
   "id": "e39100d1",
   "metadata": {},
   "source": [
    "# PROCESAMIENTO DE DATOS"
   ]
  },
  {
   "cell_type": "code",
   "execution_count": null,
   "id": "b67a19b4",
   "metadata": {},
   "outputs": [],
   "source": [
    "DataWRF = PronosticosWRF.copy()\n",
    "\n",
    "# Inicializar las nuevas columnas\n",
    "DataWRF['percentil_Real'] = None\n",
    "DataWRF['Lluvia_Binaria_Real'] = None\n",
    "DataWRF['Anom_prec_mañana_Real'] = None\n",
    "\n",
    "# Iterar sobre las filas de los pronósticos\n",
    "for i, row in DataWRF.iterrows():\n",
    "    \n",
    "    # Obtener la estación y la fecha de la fila actual\n",
    "    estacion = row['Estacion']\n",
    "    fecha = row['Fecha']\n",
    "    \n",
    "    # Buscar el valor real de precipitación en Datos_Reales para esa estación y fecha\n",
    "    precip_real = Datos_Reales[(Datos_Reales['FECHA'] == fecha) & (Datos_Reales['ESTACIÓN'] == estacion)]['PRECIPITACIÓN'].values\n",
    "    \n",
    "    precip_real = precip_real[0]\n",
    "    \n",
    "    # Buscar la media y los percentiles en climatologia_df para esa estación y fecha\n",
    "    climatologia = climatologia_df[(climatologia_df['ESTACIÓN'] == estacion) & (climatologia_df['DiaDelAno'] == fecha.strftime('%m-%d'))]\n",
    "    \n",
    "    # Obtener la media y percentiles del dataframe climatologia_df\n",
    "    media = climatologia['Media'].values[0]\n",
    "    p1_3 = climatologia['Percentil_1_/3'].values[0]\n",
    "    p2_3 = climatologia['Percentil_2/3'].values[0]\n",
    "    \n",
    "    # Ejecutar las tres funciones para clasificar y calcular anomalías\n",
    "    anomalía = anom_prec(precip_real, media)\n",
    "    clasificacion_percentiles = clasificar_percentiles(precip_real, p1_3, p2_3)\n",
    "    Prec_binaria = Lluvia_binaria(precip_real)\n",
    "    \n",
    "    # Almacenar los resultados en las nuevas columnas de DataWRF\n",
    "    DataWRF.at[i, 'percentil_Real'] = clasificacion_percentiles\n",
    "    DataWRF.at[i, 'Lluvia_Binaria_Real'] = Prec_binaria\n",
    "    DataWRF.at[i, 'Anom_prec_mañana_Real'] = anomalía"
   ]
  },
  {
   "cell_type": "code",
   "execution_count": null,
   "id": "eaf1e96f",
   "metadata": {},
   "outputs": [],
   "source": [
    "# Exportar a Excel\n",
    "DataWRF.to_excel('DataWRF.xlsx', index=False)"
   ]
  },
  {
   "cell_type": "code",
   "execution_count": null,
   "id": "41ff5874",
   "metadata": {},
   "outputs": [],
   "source": []
  }
 ],
 "metadata": {
  "kernelspec": {
   "display_name": "Python 3 (ipykernel)",
   "language": "python",
   "name": "python3"
  },
  "language_info": {
   "codemirror_mode": {
    "name": "ipython",
    "version": 3
   },
   "file_extension": ".py",
   "mimetype": "text/x-python",
   "name": "python",
   "nbconvert_exporter": "python",
   "pygments_lexer": "ipython3",
   "version": "3.12.3"
  }
 },
 "nbformat": 4,
 "nbformat_minor": 5
}
