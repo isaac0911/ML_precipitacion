{
 "cells": [
  {
   "cell_type": "markdown",
   "id": "0e5d92c6",
   "metadata": {},
   "source": [
    "En el presente código se entrenan y evalúan tres modelos de clasificación de regresión logística, donde como variables independientes se utilizan los valores de diferentes variables meteorológicas para cada uno de los diferentes días anteriores al momento de la predicción. La variable objetivo es el nivel cualitativo de la precipitación del día siguiente en términos de los percentiles de la Climatología, clasificada de la siguiente forma:\n",
    "\n",
    "Clase -1: Si la lluvia del día siguiente es inferior o igual al P(1/3)\n",
    "\n",
    "Clase 0: Si la lluvia del día siguiente es mayor al P(1/3) y menor al P(2/3)\n",
    "\n",
    "Clase +1: Si la lluvia del día siguiente es superior o igual al P(2/3)\n",
    "\n",
    "Un modelo es entrenado con datos de todo el año, el segundo con datos solo de la época lluviosa, y el tercero con datos de la época seca. \n",
    "\n",
    "Se realizan tres validaciones para cada modelo: una con datos de todo el año, una con datos exclusivos de la época lluviosa y la última con datos de la época seca."
   ]
  },
  {
   "cell_type": "markdown",
   "id": "df30533c",
   "metadata": {},
   "source": [
    "++++++++++++++++++++++++++++++++++++++++++++++++++++++++++++++++++++++++++++++++++++++++++++++++++++++++++++++++++++++++\n",
    "++++++++++++++++++++++++++++++++++++++++++++++++++++++++++++++++++++++++++++++++++++++++++++++++++++++++++++++++++++++++"
   ]
  },
  {
   "cell_type": "markdown",
   "id": "bff5b769",
   "metadata": {},
   "source": [
    "# IMPORTACIÓN Y PREPARACIÓN DE DATOS"
   ]
  },
  {
   "cell_type": "code",
   "execution_count": null,
   "id": "9c241a46",
   "metadata": {},
   "outputs": [],
   "source": [
    "import pandas as pd\n",
    "import numpy as np\n",
    "\n",
    "# Se importan los datos de entrenamiento de todo el año\n",
    "file_path = 'Train_all.xlsx'\n",
    "trainall = pd.read_excel(file_path)\n",
    "\n",
    "# Se importan los datos de validación de todo el año\n",
    "file_path = 'Test_all.xlsx'\n",
    "testall = pd.read_excel(file_path)\n",
    "\n",
    "#--------------------------------------------------------------------\n",
    "\n",
    "# Se importan los datos de entrenamiento de la época lluviosa\n",
    "file_path = 'Train_rainy.xlsx'\n",
    "trainrainy = pd.read_excel(file_path)\n",
    "\n",
    "# Se importan los datos de validación de la época lluviosa\n",
    "file_path = 'Test_rainy.xlsx'\n",
    "testrainy = pd.read_excel(file_path)\n",
    "\n",
    "#--------------------------------------------------------------------\n",
    "\n",
    "# Se importan los datos de entrenamiento de la época seca\n",
    "file_path = 'Train_dry.xlsx'\n",
    "traindry = pd.read_excel(file_path)\n",
    "\n",
    "# Se importan los datos de validación de la época seca\n",
    "file_path = 'Test_dry.xlsx'\n",
    "testdry = pd.read_excel(file_path)"
   ]
  },
  {
   "cell_type": "markdown",
   "id": "12f7d775",
   "metadata": {},
   "source": [
    "### SEPARACIÓN DE DATOS EN X,Y"
   ]
  },
  {
   "cell_type": "code",
   "execution_count": null,
   "id": "32066ce7",
   "metadata": {},
   "outputs": [],
   "source": [
    "# Separamos los datos de entrenamiento de todo el año en variables independientes (X_train) y variable objetivo (Y_train)\n",
    "Y_trainall = pd.DataFrame()\n",
    "Y_trainall['percentil'] = trainall['percentil']\n",
    "X_trainall = trainall.drop(columns='percentil')\n",
    "\n",
    "# Separamos los datos de validación de todo el año en variables independientes (X_test) y variable objetivo (Y_test)\n",
    "Y_testall = pd.DataFrame()\n",
    "Y_testall['percentil'] = testall['percentil']\n",
    "X_testall = testall.drop(columns='percentil')\n",
    "\n",
    "#--------------------------------------------------------------------------------------------------------------------------\n",
    "\n",
    "# Separamos los datos de entrenamiento de época lluviosa en variables independientes (X_train) y variable objetivo (Y_train)\n",
    "Y_trainrainy = pd.DataFrame()\n",
    "Y_trainrainy['percentil'] = trainrainy['percentil']\n",
    "X_trainrainy = trainrainy.drop(columns='percentil')\n",
    "\n",
    "# Separamos los datos de validación de la época lluviosa en variables independientes (X_test) y variable objetivo (Y_test)\n",
    "Y_testrainy = pd.DataFrame()\n",
    "Y_testrainy['percentil'] = testrainy['percentil']\n",
    "X_testrainy = testrainy.drop(columns='percentil')\n",
    "\n",
    "#--------------------------------------------------------------------------------------------------------------------------\n",
    "\n",
    "# Separamos los datos de entrenamiento de época seca en variables independientes (X_train) y variable objetivo (Y_train)\n",
    "Y_traindry = pd.DataFrame()\n",
    "Y_traindry['percentil'] = traindry['percentil']\n",
    "X_traindry = traindry.drop(columns='percentil')\n",
    "\n",
    "# Separamos los datos de validación de la época seca en variables independientes (X_test) y variable objetivo (Y_test)\n",
    "Y_testdry = pd.DataFrame()\n",
    "Y_testdry['percentil'] = testdry['percentil']\n",
    "X_testdry = testdry.drop(columns='percentil')\n",
    "\n",
    "#--------------------------------------------------------------------------------------------------------------------------"
   ]
  },
  {
   "cell_type": "markdown",
   "id": "a2715f70",
   "metadata": {},
   "source": [
    "### SE ESCALAN LOS DATOS EN X"
   ]
  },
  {
   "cell_type": "code",
   "execution_count": null,
   "id": "51bf0404",
   "metadata": {},
   "outputs": [],
   "source": [
    "from sklearn.preprocessing import StandardScaler\n",
    "\n",
    "# Escalamos los datos en X de entrenamiento y validación de todo el año\n",
    "X_trainall_scaled = StandardScaler().fit_transform(X_trainall)\n",
    "X_testall_scaled = StandardScaler().fit_transform(X_testall)\n",
    "\n",
    "#--------------------------------------------------------------------------------------------------------------------------\n",
    "\n",
    "# Escalamos los datos en X de entrenamiento y validación de la época lluviosa\n",
    "X_trainrainy_scaled = StandardScaler().fit_transform(X_trainrainy)\n",
    "X_testrainy_scaled = StandardScaler().fit_transform(X_testrainy)\n",
    "\n",
    "#--------------------------------------------------------------------------------------------------------------------------\n",
    "\n",
    "# Escalamos los datos en X de entrenamiento y validación de la época seca\n",
    "X_traindry_scaled = StandardScaler().fit_transform(X_traindry)\n",
    "X_testdry_scaled = StandardScaler().fit_transform(X_testdry)"
   ]
  },
  {
   "cell_type": "markdown",
   "id": "05cf361c",
   "metadata": {},
   "source": [
    "++++++++++++++++++++++++++++++++++++++++++++++++++++++++++++++++++++++++++++++++++++++++++++++++++++++++++++++++++++++++\n",
    "++++++++++++++++++++++++++++++++++++++++++++++++++++++++++++++++++++++++++++++++++++++++++++++++++++++++++++++++++++++++"
   ]
  },
  {
   "cell_type": "markdown",
   "id": "019c32d0",
   "metadata": {},
   "source": [
    "# ENTRENAMIENTO CON DATOS DE TODO EL AÑO"
   ]
  },
  {
   "cell_type": "markdown",
   "id": "4cef47fc",
   "metadata": {},
   "source": [
    "### ENTRENAMIENTO DEL MODELO"
   ]
  },
  {
   "cell_type": "code",
   "execution_count": null,
   "id": "478d9f85",
   "metadata": {
    "scrolled": true
   },
   "outputs": [],
   "source": [
    "from sklearn.linear_model import LogisticRegression\n",
    "import joblib\n",
    "import time\n",
    "\n",
    "modelo = LogisticRegression()\n",
    "\n",
    "start_time = time.time()\n",
    "modelo.fit(X_trainall_scaled, Y_trainall.values.ravel())\n",
    "end_time = time.time()\n",
    "\n",
    "training_time = end_time - start_time\n",
    "\n",
    "# Guarda el modelo en un archivo\n",
    "joblib.dump(modelo, 'log_regr_comb1_5days_alltrain.pkl')\n",
    "\n",
    "print('EL MODELO HA SIDO ENTRENADO EXITOSAMENTE')\n",
    "print()\n",
    "print(f'Tiempo de entrenamiento: {training_time:.4f} segundos')"
   ]
  },
  {
   "cell_type": "code",
   "execution_count": null,
   "id": "b662a2e5",
   "metadata": {},
   "outputs": [],
   "source": [
    "#Obtenemos la importancia de cada predictor\n",
    "coeficientes = modelo.coef_\n",
    "interceptos = modelo.intercept_\n",
    "clases = modelo.classes_\n",
    "\n",
    "nombres_columnas = X_trainall.columns\n",
    "\n",
    "# Imprimir resultados\n",
    "for i in range(0,len(clases)):\n",
    "    coeficientes_clase = coeficientes[i]\n",
    "    intercepto = interceptos[i]\n",
    "    print()\n",
    "    print(f'DATOS DEL MODELO PARA LA CLASE {clases[i]}')\n",
    "    print()\n",
    "    print('Importancias de las caracteristicas:')\n",
    "    for nombre, coef in zip(nombres_columnas, coeficientes_clase):\n",
    "        print(f'{nombre}: {coef}')\n",
    "    print('Intercepto del modelo:')\n",
    "    print(intercepto)\n",
    "    print()\n",
    "    print('-----------------------------------------------------------')\n",
    "    print('-----------------------------------------------------------')"
   ]
  },
  {
   "cell_type": "markdown",
   "id": "1221498f",
   "metadata": {},
   "source": [
    "### EVALUACIÓN DEL MODELO"
   ]
  },
  {
   "cell_type": "code",
   "execution_count": null,
   "id": "79af36c1",
   "metadata": {
    "scrolled": true
   },
   "outputs": [],
   "source": [
    "#---------------------------------EVALUACIÓN CON DATOS DE TODO EL AÑO--------------------------------------------------------\n",
    "\n",
    "from sklearn.metrics import confusion_matrix\n",
    "import numpy as np\n",
    "\n",
    "# Se realiza la predicción\n",
    "Y_predall = modelo.predict(X_testall_scaled)\n",
    "\n",
    "# Se calcula y despliega la matriz de confusión\n",
    "conf_matrix = confusion_matrix(Y_testall, Y_predall)\n",
    "print(\"Matriz de Confusión:\")\n",
    "print(conf_matrix)"
   ]
  },
  {
   "cell_type": "code",
   "execution_count": null,
   "id": "f0f10cf2",
   "metadata": {},
   "outputs": [],
   "source": [
    "#---------------------------------EVALUACIÓN CON DATOS DE LA ÉPOCA LLUVIOSA-----------------------------------------------------\n",
    "\n",
    "from sklearn.metrics import confusion_matrix\n",
    "import numpy as np\n",
    "\n",
    "# Se realiza la predicción\n",
    "Y_predrainy = modelo.predict(X_testrainy_scaled)\n",
    "\n",
    "# Se calcula y despliega la matriz de confusión\n",
    "conf_matrix = confusion_matrix(Y_testrainy, Y_predrainy)\n",
    "print(\"Matriz de Confusión:\")\n",
    "print(conf_matrix)"
   ]
  },
  {
   "cell_type": "code",
   "execution_count": null,
   "id": "57f9e2ca",
   "metadata": {},
   "outputs": [],
   "source": [
    "#---------------------------------EVALUACIÓN CON DATOS DE LA ÉPOCA SECA---------------------------------------------------------\n",
    "\n",
    "from sklearn.metrics import confusion_matrix\n",
    "import numpy as np\n",
    "\n",
    "# Se realiza la predicción\n",
    "Y_preddry = modelo.predict(X_testdry_scaled)\n",
    "\n",
    "# Se calcula y despliega la matriz de confusión\n",
    "conf_matrix = confusion_matrix(Y_testdry, Y_preddry)\n",
    "print(\"Matriz de Confusión:\")\n",
    "print(conf_matrix)"
   ]
  },
  {
   "cell_type": "markdown",
   "id": "36dd72cb",
   "metadata": {},
   "source": [
    "++++++++++++++++++++++++++++++++++++++++++++++++++++++++++++++++++++++++++++++++++++++++++++++++++++++++++++++++++++++++\n",
    "++++++++++++++++++++++++++++++++++++++++++++++++++++++++++++++++++++++++++++++++++++++++++++++++++++++++++++++++++++++++"
   ]
  },
  {
   "cell_type": "markdown",
   "id": "b4861177",
   "metadata": {},
   "source": [
    "# ENTRENAMIENTO CON DATOS DE LA ÉPOCA LLUVIOSA"
   ]
  },
  {
   "cell_type": "markdown",
   "id": "0f3722fe",
   "metadata": {},
   "source": [
    "### ENTRENAMIENTO DEL MODELO"
   ]
  },
  {
   "cell_type": "code",
   "execution_count": null,
   "id": "83d488cd",
   "metadata": {},
   "outputs": [],
   "source": [
    "from sklearn.linear_model import LogisticRegression\n",
    "import joblib\n",
    "import time\n",
    "\n",
    "modelo = LogisticRegression()\n",
    "\n",
    "start_time = time.time()\n",
    "modelo.fit(X_trainrainy_scaled, Y_trainrainy.values.ravel())\n",
    "end_time = time.time()\n",
    "\n",
    "training_time = end_time - start_time\n",
    "\n",
    "# Guarda el modelo en un archivo\n",
    "joblib.dump(modelo, 'log_regr_comb1_5days_rainytrain.pkl')\n",
    "\n",
    "print('EL MODELO HA SIDO ENTRENADO EXITOSAMENTE')\n",
    "print()\n",
    "print(f'Tiempo de entrenamiento: {training_time:.4f} segundos')"
   ]
  },
  {
   "cell_type": "code",
   "execution_count": null,
   "id": "61b940b4",
   "metadata": {},
   "outputs": [],
   "source": [
    "#Obtenemos la importancia de cada predictor\n",
    "coeficientes = modelo.coef_\n",
    "interceptos = modelo.intercept_\n",
    "clases = modelo.classes_\n",
    "\n",
    "nombres_columnas = X_trainall.columns\n",
    "\n",
    "# Imprimir resultados\n",
    "for i in range(0,len(clases)):\n",
    "    coeficientes_clase = coeficientes[i]\n",
    "    intercepto = interceptos[i]\n",
    "    print()\n",
    "    print(f'DATOS DEL MODELO PARA LA CLASE {clases[i]}')\n",
    "    print()\n",
    "    print('Importancias de las caracteristicas:')\n",
    "    for nombre, coef in zip(nombres_columnas, coeficientes_clase):\n",
    "        print(f'{nombre}: {coef}')\n",
    "    print('Intercepto del modelo:')\n",
    "    print(intercepto)\n",
    "    print()\n",
    "    print('-----------------------------------------------------------')\n",
    "    print('-----------------------------------------------------------')"
   ]
  },
  {
   "cell_type": "markdown",
   "id": "0be667b1",
   "metadata": {},
   "source": [
    "### EVALUACIÓN DEL MODELO"
   ]
  },
  {
   "cell_type": "code",
   "execution_count": null,
   "id": "7b9c15f7",
   "metadata": {},
   "outputs": [],
   "source": [
    "#---------------------------------EVALUACIÓN CON DATOS DE TODO EL AÑO--------------------------------------------------------\n",
    "\n",
    "from sklearn.metrics import confusion_matrix\n",
    "import numpy as np\n",
    "\n",
    "# Se realiza la predicción\n",
    "Y_predall = modelo.predict(X_testall_scaled)\n",
    "\n",
    "# Se calcula y despliega la matriz de confusión\n",
    "conf_matrix = confusion_matrix(Y_testall, Y_predall)\n",
    "print(\"Matriz de Confusión:\")\n",
    "print(conf_matrix)"
   ]
  },
  {
   "cell_type": "code",
   "execution_count": null,
   "id": "f143ff72",
   "metadata": {},
   "outputs": [],
   "source": [
    "#---------------------------------EVALUACIÓN CON DATOS DE LA ÉPOCA LLUVIOSA-----------------------------------------------------\n",
    "\n",
    "from sklearn.metrics import confusion_matrix\n",
    "import numpy as np\n",
    "\n",
    "# Se realiza la predicción\n",
    "Y_predrainy = modelo.predict(X_testrainy_scaled)\n",
    "\n",
    "# Se calcula y despliega la matriz de confusión\n",
    "conf_matrix = confusion_matrix(Y_testrainy, Y_predrainy)\n",
    "print(\"Matriz de Confusión:\")\n",
    "print(conf_matrix)"
   ]
  },
  {
   "cell_type": "code",
   "execution_count": null,
   "id": "0647fe82",
   "metadata": {},
   "outputs": [],
   "source": [
    "#---------------------------------EVALUACIÓN CON DATOS DE LA ÉPOCA SECA---------------------------------------------------------\n",
    "\n",
    "from sklearn.metrics import confusion_matrix\n",
    "import numpy as np\n",
    "\n",
    "# Se realiza la predicción\n",
    "Y_preddry = modelo.predict(X_testdry_scaled)\n",
    "\n",
    "# Se calcula y despliega la matriz de confusión\n",
    "conf_matrix = confusion_matrix(Y_testdry, Y_preddry)\n",
    "print(\"Matriz de Confusión:\")\n",
    "print(conf_matrix)"
   ]
  },
  {
   "cell_type": "markdown",
   "id": "792848ca",
   "metadata": {},
   "source": [
    "++++++++++++++++++++++++++++++++++++++++++++++++++++++++++++++++++++++++++++++++++++++++++++++++++++++++++++++++++++++++\n",
    "++++++++++++++++++++++++++++++++++++++++++++++++++++++++++++++++++++++++++++++++++++++++++++++++++++++++++++++++++++++++"
   ]
  },
  {
   "cell_type": "markdown",
   "id": "67cd0de0",
   "metadata": {},
   "source": [
    "# ENTRENAMIENTO CON DATOS DE LA ÉPOCA SECA"
   ]
  },
  {
   "cell_type": "markdown",
   "id": "87289e99",
   "metadata": {},
   "source": [
    "### ENTRENAMIENTO DEL MODELO"
   ]
  },
  {
   "cell_type": "code",
   "execution_count": null,
   "id": "80023c56",
   "metadata": {},
   "outputs": [],
   "source": [
    "from sklearn.linear_model import LogisticRegression\n",
    "import joblib\n",
    "import time\n",
    "\n",
    "modelo = LogisticRegression()\n",
    "\n",
    "start_time = time.time()\n",
    "modelo.fit(X_traindry_scaled, Y_traindry.values.ravel())\n",
    "end_time = time.time()\n",
    "\n",
    "training_time = end_time - start_time\n",
    "\n",
    "# Guarda el modelo en un archivo\n",
    "joblib.dump(modelo, 'log_regr_comb1_5days_drytrain.pkl')\n",
    "\n",
    "print('EL MODELO HA SIDO ENTRENADO EXITOSAMENTE')\n",
    "print()\n",
    "print(f'Tiempo de entrenamiento: {training_time:.4f} segundos')"
   ]
  },
  {
   "cell_type": "code",
   "execution_count": null,
   "id": "f9d5c4cd",
   "metadata": {},
   "outputs": [],
   "source": [
    "#Obtenemos la importancia de cada predictor\n",
    "coeficientes = modelo.coef_\n",
    "interceptos = modelo.intercept_\n",
    "clases = modelo.classes_\n",
    "\n",
    "nombres_columnas = X_trainall.columns\n",
    "\n",
    "# Imprimir resultados\n",
    "for i in range(0,len(clases)):\n",
    "    coeficientes_clase = coeficientes[i]\n",
    "    intercepto = interceptos[i]\n",
    "    print()\n",
    "    print(f'DATOS DEL MODELO PARA LA CLASE {clases[i]}')\n",
    "    print()\n",
    "    print('Importancias de las caracteristicas:')\n",
    "    for nombre, coef in zip(nombres_columnas, coeficientes_clase):\n",
    "        print(f'{nombre}: {coef}')\n",
    "    print('Intercepto del modelo:')\n",
    "    print(intercepto)\n",
    "    print()\n",
    "    print('-----------------------------------------------------------')\n",
    "    print('-----------------------------------------------------------')"
   ]
  },
  {
   "cell_type": "markdown",
   "id": "08a45684",
   "metadata": {},
   "source": [
    "### EVALUACIÓN DEL MODELO"
   ]
  },
  {
   "cell_type": "code",
   "execution_count": null,
   "id": "86d902e5",
   "metadata": {},
   "outputs": [],
   "source": [
    "#---------------------------------EVALUACIÓN CON DATOS DE TODO EL AÑO--------------------------------------------------------\n",
    "\n",
    "from sklearn.metrics import confusion_matrix\n",
    "import numpy as np\n",
    "\n",
    "# Se realiza la predicción\n",
    "Y_predall = modelo.predict(X_testall_scaled)\n",
    "\n",
    "# Se calcula y despliega la matriz de confusión\n",
    "conf_matrix = confusion_matrix(Y_testall, Y_predall)\n",
    "print(\"Matriz de Confusión:\")\n",
    "print(conf_matrix)"
   ]
  },
  {
   "cell_type": "code",
   "execution_count": null,
   "id": "b68b39ff",
   "metadata": {},
   "outputs": [],
   "source": [
    "#---------------------------------EVALUACIÓN CON DATOS DE LA ÉPOCA LLUVIOSA-----------------------------------------------------\n",
    "\n",
    "from sklearn.metrics import confusion_matrix\n",
    "import numpy as np\n",
    "\n",
    "# Se realiza la predicción\n",
    "Y_predrainy = modelo.predict(X_testrainy_scaled)\n",
    "\n",
    "# Se calcula y despliega la matriz de confusión\n",
    "conf_matrix = confusion_matrix(Y_testrainy, Y_predrainy)\n",
    "print(\"Matriz de Confusión:\")\n",
    "print(conf_matrix)"
   ]
  },
  {
   "cell_type": "code",
   "execution_count": null,
   "id": "3d8775ce",
   "metadata": {},
   "outputs": [],
   "source": [
    "#---------------------------------EVALUACIÓN CON DATOS DE LA ÉPOCA SECA---------------------------------------------------------\n",
    "\n",
    "from sklearn.metrics import confusion_matrix\n",
    "import numpy as np\n",
    "\n",
    "# Se realiza la predicción\n",
    "Y_preddry = modelo.predict(X_testdry_scaled)\n",
    "\n",
    "# Se calcula y despliega la matriz de confusión\n",
    "conf_matrix = confusion_matrix(Y_testdry, Y_preddry)\n",
    "print(\"Matriz de Confusión:\")\n",
    "print(conf_matrix)"
   ]
  }
 ],
 "metadata": {
  "kernelspec": {
   "display_name": "Python 3 (ipykernel)",
   "language": "python",
   "name": "python3"
  },
  "language_info": {
   "codemirror_mode": {
    "name": "ipython",
    "version": 3
   },
   "file_extension": ".py",
   "mimetype": "text/x-python",
   "name": "python",
   "nbconvert_exporter": "python",
   "pygments_lexer": "ipython3",
   "version": "3.12.3"
  }
 },
 "nbformat": 4,
 "nbformat_minor": 5
}
