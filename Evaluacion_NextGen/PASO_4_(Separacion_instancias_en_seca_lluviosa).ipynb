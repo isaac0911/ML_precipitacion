{
 "cells": [
  {
   "cell_type": "markdown",
   "id": "beb85e31",
   "metadata": {},
   "source": [
    "En este código se importa la base de datos con los pronósticos estacionales de precipitación acumulada de NextGen en comparación con los valores reales. La base de datos se divide en dos: por un lado, las intancias que pertenecen a la época lluviosa, y por otro, los que pertenecen a la época seca.\n",
    "\n",
    "Ésto servirá para poder hacer la evaluación de NextGen para cada época del año."
   ]
  },
  {
   "cell_type": "markdown",
   "id": "57ccbbd6",
   "metadata": {},
   "source": [
    "# IMPORTACIÓN DE DATOS Y LIBRERÍAS"
   ]
  },
  {
   "cell_type": "code",
   "execution_count": null,
   "id": "714506d9",
   "metadata": {},
   "outputs": [],
   "source": [
    "import pandas as pd\n",
    "import numpy as np"
   ]
  },
  {
   "cell_type": "code",
   "execution_count": null,
   "id": "1eda32ec",
   "metadata": {},
   "outputs": [],
   "source": [
    "Pronosticos_NextGen = pd.read_excel('DataNextGen.xlsx')"
   ]
  },
  {
   "cell_type": "markdown",
   "id": "5fb5c6c8",
   "metadata": {},
   "source": [
    "# SEPARACIÓN EN ÉPOCA LLUVIOSA Y SECA"
   ]
  },
  {
   "cell_type": "code",
   "execution_count": null,
   "id": "47d0ba7f",
   "metadata": {},
   "outputs": [],
   "source": [
    "# Definir los períodos estacionales de cada época\n",
    "epoca_lluviosa = [\"MJJ\", \"ASO\"]  # Mayo a Octubre\n",
    "epoca_seca = [\"DEFM\"]     # Diciembre a Marzo (abril y noviembre no se consideran)\n",
    "\n",
    "# Filtrar los datos por época lluviosa y época seca\n",
    "Pronósticos_NextGen_lluviosa = Pronosticos_NextGen[Pronosticos_NextGen['Periodo'].isin(epoca_lluviosa)]\n",
    "Pronósticos_NextGen_seca = Pronosticos_NextGen[Pronosticos_NextGen['Periodo'].isin(epoca_seca)]"
   ]
  },
  {
   "cell_type": "markdown",
   "id": "6a1fdcd6",
   "metadata": {},
   "source": [
    "# EXPORTACIÓN A ARCHIVOS EN FORMATO EXCEL"
   ]
  },
  {
   "cell_type": "code",
   "execution_count": null,
   "id": "e29ea517",
   "metadata": {},
   "outputs": [],
   "source": [
    "Pronosticos_NextGen.to_excel('NextGen_AllData.xlsx', index=False)\n",
    "Pronósticos_NextGen_lluviosa.to_excel('NextGen_RainyData.xlsx', index=False)\n",
    "Pronósticos_NextGen_seca.to_excel('NextGen_DryData.xlsx', index=False)"
   ]
  },
  {
   "cell_type": "code",
   "execution_count": null,
   "id": "be621177",
   "metadata": {},
   "outputs": [],
   "source": []
  }
 ],
 "metadata": {
  "kernelspec": {
   "display_name": "Python 3 (ipykernel)",
   "language": "python",
   "name": "python3"
  },
  "language_info": {
   "codemirror_mode": {
    "name": "ipython",
    "version": 3
   },
   "file_extension": ".py",
   "mimetype": "text/x-python",
   "name": "python",
   "nbconvert_exporter": "python",
   "pygments_lexer": "ipython3",
   "version": "3.12.3"
  }
 },
 "nbformat": 4,
 "nbformat_minor": 5
}
