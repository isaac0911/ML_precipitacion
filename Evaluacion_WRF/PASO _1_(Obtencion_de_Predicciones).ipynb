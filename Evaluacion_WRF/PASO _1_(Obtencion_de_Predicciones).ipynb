{
 "cells": [
  {
   "cell_type": "markdown",
   "id": "beb85e31",
   "metadata": {},
   "source": [
    "Se dispone de varios archivos raster en formato \".tif\", donde cada uno almacena el pronóstico de precipitación para el día siguiente en todo el dominio geográfico de Guatemala; estas predicciones fueron obtenidas a partir del modelo WRF.\n",
    "\n",
    "Para cada uno de los archivos \".tif\" se realiza lo siguiente:\n",
    "\n",
    "01. Se toma el valor asociado a la ubicación geográfica de cada una de las estaciones meteorológicas.\n",
    "02. Para cada estación meteorológica, se generan las variables objetivo de estudio:\n",
    "    - Anomalía de precipitación del día siguiente con respecto al promedio de la Climatología\n",
    "    - Clasificación binaria de la precipitación del día siguiente como =0 ó >0\n",
    "    - Clasificación de la precipitación del día siguiente en cotas percentiles\n",
    "03. Luego, se agrega a un dataframe el nombre de la estación, la fecha, la latitud y longitud de la estación, el número de mes (de 1 a 12), así como las tres variables objetivo pronosticadas por WRF\n",
    "\n",
    "Al finalizar el proceso, el dataframe es exportado a un archivo en formato \".xlsx\""
   ]
  },
  {
   "cell_type": "markdown",
   "id": "c4af0148",
   "metadata": {},
   "source": [
    "# IMPORTACIÓN DE DATOS Y LIBRERÍAS"
   ]
  },
  {
   "cell_type": "code",
   "execution_count": null,
   "id": "a5905c2d",
   "metadata": {},
   "outputs": [],
   "source": [
    "import pandas as pd\n",
    "import rasterio\n",
    "from rasterio.sample import sample_gen\n",
    "import numpy as np\n",
    "import os\n",
    "from datetime import datetime, timedelta"
   ]
  },
  {
   "cell_type": "code",
   "execution_count": null,
   "id": "0cfd3494",
   "metadata": {},
   "outputs": [],
   "source": [
    "# Cargar datos desde Excel\n",
    "estaciones_df = pd.read_excel('Datos_estaciones.xlsx')  # Archivo con latitud y longitud de cada estación\n",
    "climatologia_df = pd.read_excel('Percentiles.xlsx')  # Archivo con climatología (media y percentiles para cada estación en cada día del ano)"
   ]
  },
  {
   "cell_type": "markdown",
   "id": "3fd03e74",
   "metadata": {},
   "source": [
    "# DEFINICIÓN DE FUNCIONES"
   ]
  },
  {
   "cell_type": "code",
   "execution_count": null,
   "id": "defec21d",
   "metadata": {},
   "outputs": [],
   "source": [
    "# Función para extraer la precipitación de un archivo .tiff en todas las estaciones\n",
    "\n",
    "def obtener_precipitacion_en_estaciones(ruta_tiff, latitudes, longitudes):\n",
    "    coords = [(lon, lat) for lon, lat in zip(longitudes, latitudes)]\n",
    "    with rasterio.open(ruta_tiff) as src:\n",
    "        precipitaciones = list(src.sample(coords))\n",
    "        precipitaciones = [x[0] for x in precipitaciones]  # Obtenemos solo la precipitación\n",
    "    return precipitaciones"
   ]
  },
  {
   "cell_type": "code",
   "execution_count": null,
   "id": "29243456",
   "metadata": {},
   "outputs": [],
   "source": [
    "# Función para calcular anomalía de precipitación\n",
    "\n",
    "def anom_prec(prec, media):\n",
    "    anom = prec - media\n",
    "    suma = anom + media\n",
    "    if suma < 0:\n",
    "        anom = -media\n",
    "    return anom"
   ]
  },
  {
   "cell_type": "code",
   "execution_count": null,
   "id": "30283b87",
   "metadata": {},
   "outputs": [],
   "source": [
    "# Función de clasificación binaria de la lluvia como =0 ó >0\n",
    "\n",
    "def Lluvia_binaria(prec):\n",
    "    if prec == 0:\n",
    "        return 0\n",
    "    else:\n",
    "        return 1"
   ]
  },
  {
   "cell_type": "code",
   "execution_count": null,
   "id": "f2404375",
   "metadata": {},
   "outputs": [],
   "source": [
    "# Función para clasificar por percentiles\n",
    "\n",
    "def clasificar_percentiles(prec, p1_3, p2_3):\n",
    "    if p1_3 == 0 and p2_3 == 0 and prec == 0:\n",
    "        return 0\n",
    "    else:\n",
    "        if prec <= p1_3:\n",
    "            return -1\n",
    "        elif prec >= p2_3:\n",
    "            return 1\n",
    "        else:\n",
    "            return 0"
   ]
  },
  {
   "cell_type": "markdown",
   "id": "757259a5",
   "metadata": {},
   "source": [
    "# PROCESAMIENTO DE ARCHIVOS .TIFF"
   ]
  },
  {
   "cell_type": "code",
   "execution_count": null,
   "id": "27f9983b",
   "metadata": {},
   "outputs": [],
   "source": [
    "# Procesar todos los archivos .tiff\n",
    "resultados = []\n",
    "ruta_tiffs = 'Archivos_tiff/'  # Ruta donde están almacenados los archivos .tiff"
   ]
  },
  {
   "cell_type": "code",
   "execution_count": null,
   "id": "dfbd2b2b",
   "metadata": {},
   "outputs": [],
   "source": [
    "# Ciclo principal de ejecución:\n",
    "\n",
    "for archivo_tiff in os.listdir(ruta_tiffs):\n",
    "    if archivo_tiff.endswith('.tif'):\n",
    "        # Extraer la fecha del nombre del archivo (asumiendo formato [yyyy][mm][dd].tiff)\n",
    "        fecha_str = archivo_tiff.split('.')[0]\n",
    "        fecha = datetime.strptime(fecha_str, '%Y%m%d')\n",
    "        mes = fecha.month\n",
    "        dia = fecha.day\n",
    "        dia_del_año = f'{mes}-{dia}'\n",
    "        \n",
    "        if dia<10:\n",
    "            dia_del_año = f'{mes}-0{dia}'  #Agregar un cero para que la fecha sea 11-01 y no 11-1, por ejemplo\n",
    "            \n",
    "        if mes<10:\n",
    "            dia_del_año = f'0{mes}-{dia}'  #Agregar un cero para que la fecha sea 01-11 y no 1-11, por ejemplo\n",
    "        \n",
    "        if dia<10 and mes<10:\n",
    "            dia_del_año = f'0{mes}-0{dia}'  #Agregar un cero para que la fecha sea 01-01 y no 1-1, por ejemplo\n",
    "        \n",
    "        # Extraer precipitación en las coordenadas de cada estación\n",
    "        latitudes = estaciones_df['Latitud'].values\n",
    "        longitudes = estaciones_df['Longitud'].values\n",
    "        precipitaciones = obtener_precipitacion_en_estaciones(os.path.join(ruta_tiffs, archivo_tiff), latitudes, longitudes)\n",
    "        \n",
    "        for i, estacion in estaciones_df.iterrows():\n",
    "            nombre_estacion = estacion['ESTACIÓN']\n",
    "            latitud = estacion['Latitud']\n",
    "            longitud = estacion['Longitud']\n",
    "            \n",
    "            # Obtener los datos de climatología para la fecha y estación\n",
    "            clima = climatologia_df[(climatologia_df['ESTACIÓN'] == nombre_estacion) & (climatologia_df['DiaDelAno'] == dia_del_año)]\n",
    "            \n",
    "            media_clim = clima['Media'].values[0]\n",
    "            p1_3 = clima['Percentil_1_/3'].values[0]\n",
    "            p2_3 = clima['Percentil_2/3'].values[0]\n",
    "            \n",
    "            # Precipitación predicha\n",
    "            precip_predicha = precipitaciones[i]\n",
    "            \n",
    "            # Anomalía de precipitación\n",
    "            anomalia_prec = anom_prec(precip_predicha, media_clim)\n",
    "            \n",
    "            # Clasificación de Lluvia binaria\n",
    "            lluvia_binaria = Lluvia_binaria(precip_predicha)\n",
    "            \n",
    "            # Clasificación por percentiles\n",
    "            percentil_clase = clasificar_percentiles(precip_predicha, p1_3, p2_3)\n",
    "            \n",
    "            # Guardar resultados\n",
    "            resultados.append([nombre_estacion, fecha, latitud, longitud, mes, percentil_clase, lluvia_binaria, anomalia_prec])"
   ]
  },
  {
   "cell_type": "markdown",
   "id": "52501929",
   "metadata": {},
   "source": [
    "# Crear DataFrame final"
   ]
  },
  {
   "cell_type": "code",
   "execution_count": null,
   "id": "7be8e30e",
   "metadata": {},
   "outputs": [],
   "source": [
    "# Crear DataFrame final\n",
    "resultados_df = pd.DataFrame(resultados, columns=['Estacion', 'Fecha', 'Latitud', 'Longitud', 'Mes', 'percentil_WRF', 'Lluvia_Binaria_WRF', 'Anom_prec_mañana_WRF'])\n",
    "\n",
    "# Exportar a Excel\n",
    "resultados_df.to_excel('PronósticosWRF.xlsx', index=False)"
   ]
  },
  {
   "cell_type": "code",
   "execution_count": null,
   "id": "3dd2d721",
   "metadata": {},
   "outputs": [],
   "source": []
  }
 ],
 "metadata": {
  "kernelspec": {
   "display_name": "Python 3 (ipykernel)",
   "language": "python",
   "name": "python3"
  },
  "language_info": {
   "codemirror_mode": {
    "name": "ipython",
    "version": 3
   },
   "file_extension": ".py",
   "mimetype": "text/x-python",
   "name": "python",
   "nbconvert_exporter": "python",
   "pygments_lexer": "ipython3",
   "version": "3.12.3"
  }
 },
 "nbformat": 4,
 "nbformat_minor": 5
}
