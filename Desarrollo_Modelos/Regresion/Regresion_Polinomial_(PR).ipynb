{
 "cells": [
  {
   "cell_type": "markdown",
   "id": "0e5d92c6",
   "metadata": {},
   "source": [
    "En el presente código se entrenan y evalúan tres modelos de regresión polinomial (grado 2), donde como variables independientes se utilizan los valores de diferentes variables meteorológicas para cada uno de los diferentes días anteriores al momento de la predicción. La variable objetivo es la anomalía de precipitación del día siguiente respecto de la Climatología.\n",
    "\n",
    "Un modelo es entrenado con datos de todo el año, el segundo con datos solo de la época lluviosa, y el tercero con datos de la época seca. \n",
    "\n",
    "Se realizan tres validaciones para cada modelo: una con datos de todo el año, una con datos exclusivos de la época lluviosa y la última con datos de la época seca."
   ]
  },
  {
   "cell_type": "markdown",
   "id": "df30533c",
   "metadata": {},
   "source": [
    "++++++++++++++++++++++++++++++++++++++++++++++++++++++++++++++++++++++++++++++++++++++++++++++++++++++++++++++++++++++++\n",
    "++++++++++++++++++++++++++++++++++++++++++++++++++++++++++++++++++++++++++++++++++++++++++++++++++++++++++++++++++++++++"
   ]
  },
  {
   "cell_type": "markdown",
   "id": "bff5b769",
   "metadata": {},
   "source": [
    "# IMPORTACIÓN Y PREPARACIÓN DE DATOS"
   ]
  },
  {
   "cell_type": "code",
   "execution_count": null,
   "id": "9c241a46",
   "metadata": {},
   "outputs": [],
   "source": [
    "import pandas as pd\n",
    "import numpy as np\n",
    "\n",
    "# Se importan los datos de entrenamiento de todo el año\n",
    "file_path = 'Train_all.xlsx'\n",
    "trainall = pd.read_excel(file_path)\n",
    "\n",
    "# Se importan los datos de validación de todo el año\n",
    "file_path = 'Test_all.xlsx'\n",
    "testall = pd.read_excel(file_path)\n",
    "\n",
    "# Se importan los datos de validación de todo el año con la media de precipitación de la Clim del día siguiente\n",
    "file_path = 'Test_all_conMedia.xlsx'\n",
    "testall_conMedia = pd.read_excel(file_path)\n",
    "\n",
    "#--------------------------------------------------------------------\n",
    "\n",
    "# Se importan los datos de entrenamiento de la época lluviosa\n",
    "file_path = 'Train_rainy.xlsx'\n",
    "trainrainy = pd.read_excel(file_path)\n",
    "\n",
    "# Se importan los datos de validación de la época lluviosa\n",
    "file_path = 'Test_rainy.xlsx'\n",
    "testrainy = pd.read_excel(file_path)\n",
    "\n",
    "# Se importan los datos de validación de la época lluviosa con la media de precipitación de la Clim del día siguiente\n",
    "file_path = 'Test_rainy_conMedia.xlsx'\n",
    "testrainy_conMedia = pd.read_excel(file_path)\n",
    "\n",
    "#--------------------------------------------------------------------\n",
    "\n",
    "# Se importan los datos de entrenamiento de la época seca\n",
    "file_path = 'Train_dry.xlsx'\n",
    "traindry = pd.read_excel(file_path)\n",
    "\n",
    "# Se importan los datos de validación de la época seca\n",
    "file_path = 'Test_dry.xlsx'\n",
    "testdry = pd.read_excel(file_path)\n",
    "\n",
    "# Se importan los datos de validación de la época seca con la media de precipitación de la Clim del día siguiente\n",
    "file_path = 'Test_dry_conMedia.xlsx'\n",
    "testdry_conMedia = pd.read_excel(file_path)"
   ]
  },
  {
   "cell_type": "markdown",
   "id": "12f7d775",
   "metadata": {},
   "source": [
    "### SEPARACIÓN DE DATOS EN X,Y"
   ]
  },
  {
   "cell_type": "code",
   "execution_count": null,
   "id": "32066ce7",
   "metadata": {},
   "outputs": [],
   "source": [
    "# Separamos los datos de entrenamiento de todo el año en variables independientes (X_train) y variable objetivo (Y_train)\n",
    "Y_trainall = pd.DataFrame()\n",
    "Y_trainall['Anom_prec_mañana'] = trainall['Anom_prec_mañana']\n",
    "X_trainall = trainall.drop(columns='Anom_prec_mañana')\n",
    "\n",
    "# Separamos los datos de validación de todo el año en variables independientes (X_test) y variable objetivo (Y_test)\n",
    "Y_testall = pd.DataFrame()\n",
    "Y_testall['Anom_prec_mañana'] = testall['Anom_prec_mañana']\n",
    "X_testall = testall.drop(columns='Anom_prec_mañana')\n",
    "\n",
    "#--------------------------------------------------------------------------------------------------------------------------\n",
    "\n",
    "# Separamos los datos de entrenamiento de época lluviosa en variables independientes (X_train) y variable objetivo (Y_train)\n",
    "Y_trainrainy = pd.DataFrame()\n",
    "Y_trainrainy['Anom_prec_mañana'] = trainrainy['Anom_prec_mañana']\n",
    "X_trainrainy = trainrainy.drop(columns='Anom_prec_mañana')\n",
    "\n",
    "# Separamos los datos de validación de la época lluviosa en variables independientes (X_test) y variable objetivo (Y_test)\n",
    "Y_testrainy = pd.DataFrame()\n",
    "Y_testrainy['Anom_prec_mañana'] = testrainy['Anom_prec_mañana']\n",
    "X_testrainy = testrainy.drop(columns='Anom_prec_mañana')\n",
    "\n",
    "#--------------------------------------------------------------------------------------------------------------------------\n",
    "\n",
    "# Separamos los datos de entrenamiento de época seca en variables independientes (X_train) y variable objetivo (Y_train)\n",
    "Y_traindry = pd.DataFrame()\n",
    "Y_traindry['Anom_prec_mañana'] = traindry['Anom_prec_mañana']\n",
    "X_traindry = traindry.drop(columns='Anom_prec_mañana')\n",
    "\n",
    "# Separamos los datos de validación de la época seca en variables independientes (X_test) y variable objetivo (Y_test)\n",
    "Y_testdry = pd.DataFrame()\n",
    "Y_testdry['Anom_prec_mañana'] = testdry['Anom_prec_mañana']\n",
    "X_testdry = testdry.drop(columns='Anom_prec_mañana')\n",
    "\n",
    "#--------------------------------------------------------------------------------------------------------------------------"
   ]
  },
  {
   "cell_type": "markdown",
   "id": "9c9f1231",
   "metadata": {},
   "source": [
    "### DEFINIR CARACTERÍSTICAS DEL ALGORITMO"
   ]
  },
  {
   "cell_type": "code",
   "execution_count": null,
   "id": "3437d206",
   "metadata": {},
   "outputs": [],
   "source": [
    "from sklearn.preprocessing import PolynomialFeatures\n",
    "\n",
    "#Se define el grado del polinomio\n",
    "poli_reg = PolynomialFeatures(degree = 2)\n",
    "\n",
    "#Se transforman las características existentes en características de mayor grado\n",
    "X_trainall_poly = poli_reg.fit_transform(X_trainall)\n",
    "X_testall_poly = poli_reg.fit_transform(X_testall)\n",
    "\n",
    "X_trainrainy_poly = poli_reg.fit_transform(X_trainrainy)\n",
    "X_testrainy_poly = poli_reg.fit_transform(X_testrainy)\n",
    "\n",
    "X_traindry_poly = poli_reg.fit_transform(X_traindry)\n",
    "X_testdry_poly = poli_reg.fit_transform(X_testdry)\n",
    "\n",
    "# Obtener los nombres de las características polinomiales\n",
    "nombres_caracteristicas = poli_reg.get_feature_names_out(X_trainall.columns)"
   ]
  },
  {
   "cell_type": "markdown",
   "id": "05cf361c",
   "metadata": {},
   "source": [
    "++++++++++++++++++++++++++++++++++++++++++++++++++++++++++++++++++++++++++++++++++++++++++++++++++++++++++++++++++++++++\n",
    "++++++++++++++++++++++++++++++++++++++++++++++++++++++++++++++++++++++++++++++++++++++++++++++++++++++++++++++++++++++++"
   ]
  },
  {
   "cell_type": "markdown",
   "id": "019c32d0",
   "metadata": {},
   "source": [
    "# ENTRENAMIENTO CON DATOS DE TODO EL AÑO"
   ]
  },
  {
   "cell_type": "markdown",
   "id": "4cef47fc",
   "metadata": {},
   "source": [
    "### ENTRENAMIENTO DEL MODELO"
   ]
  },
  {
   "cell_type": "code",
   "execution_count": null,
   "id": "478d9f85",
   "metadata": {},
   "outputs": [],
   "source": [
    "from sklearn import linear_model\n",
    "import joblib\n",
    "import time\n",
    "\n",
    "#Definir el algoritmo a utilizar\n",
    "modelo = linear_model.LinearRegression()\n",
    "\n",
    "start_time = time.time()\n",
    "modelo.fit(X_trainall_poly, Y_trainall)\n",
    "end_time = time.time()\n",
    "\n",
    "training_time = end_time - start_time\n",
    "\n",
    "# Guarda el modelo en un archivo\n",
    "joblib.dump(modelo, 'poly_regr_degree2_comb1_5days_alltrain.pkl')\n",
    "\n",
    "print('EL MODELO HA SIDO ENTRENADO EXITOSAMENTE')\n",
    "print()\n",
    "print(f'Tiempo de entrenamiento: {training_time:.4f} segundos')"
   ]
  },
  {
   "cell_type": "code",
   "execution_count": null,
   "id": "0a8fa02f",
   "metadata": {},
   "outputs": [],
   "source": [
    "#Obtenemos los coeficientes del modelo\n",
    "coeficientes = modelo.coef_[0]\n",
    "nombres_coeficientes = nombres_caracteristicas\n",
    "\n",
    "# Imprimir resultados\n",
    "print('DATOS DEL MODELO:')\n",
    "print()\n",
    "print('Valor de las pendientes o coeficientes \"a\":')\n",
    "for nombre, coef in zip(nombres_coeficientes, coeficientes):\n",
    "    print(f'{nombre}: {coef}')\n",
    "print('Valor de la intersección o coeficiente \"b\":')\n",
    "print(modelo.intercept_)"
   ]
  },
  {
   "cell_type": "markdown",
   "id": "1221498f",
   "metadata": {},
   "source": [
    "### EVALUACIÓN DEL MODELO"
   ]
  },
  {
   "cell_type": "code",
   "execution_count": null,
   "id": "79af36c1",
   "metadata": {
    "scrolled": true
   },
   "outputs": [],
   "source": [
    "#---------------------------------EVALUACIÓN CON DATOS DE TODO EL AÑO--------------------------------------------------------\n",
    "\n",
    "from sklearn.metrics import mean_squared_error, mean_absolute_error, median_absolute_error, r2_score\n",
    "\n",
    "# Se realiza la predicción\n",
    "Y_predall = modelo.predict(X_testall_poly)\n",
    "\n",
    "# Se sustituyen valores negativos de precipitación por cero\n",
    "for i in range(len(Y_predall)):\n",
    "    media = testall_conMedia.loc[i, 'Media_prec_mañana_Clim']\n",
    "    suma = Y_predall[i]+media\n",
    "    if suma<0:\n",
    "        Y_predall[i] = -media\n",
    "    \n",
    "\n",
    "# Se evalúa el modelo\n",
    "mae = mean_absolute_error(Y_testall, Y_predall)\n",
    "mdae = median_absolute_error(Y_testall, Y_predall)\n",
    "\n",
    "# Imprimir resultados\n",
    "print(\"\\nEvaluación del Modelo con datos de todo el año:\")\n",
    "print(f\"Media del Error Absoluto (MAE): {mae}\")\n",
    "print(f\"Mediana del Error Absoluto (MdAE): {mdae}\")"
   ]
  },
  {
   "cell_type": "code",
   "execution_count": null,
   "id": "7d1371be",
   "metadata": {},
   "outputs": [],
   "source": [
    "#---------------------------------EVALUACIÓN CON DATOS DE LA ÉPOCA LLUVIOSA--------------------------------------------------------\n",
    "\n",
    "from sklearn.metrics import mean_squared_error, mean_absolute_error, median_absolute_error, r2_score\n",
    "\n",
    "# Se realiza la predicción\n",
    "Y_predrainy = modelo.predict(X_testrainy_poly)\n",
    "\n",
    "# Se sustituyen valores negativos de precipitación por cero\n",
    "for i in range(len(Y_predrainy)):\n",
    "    media = testrainy_conMedia.loc[i, 'Media_prec_mañana_Clim']\n",
    "    suma = Y_predrainy[i]+media\n",
    "    if suma<0:\n",
    "        Y_predrainy[i] = -media\n",
    "\n",
    "# Se evalúa el modelo\n",
    "mae = mean_absolute_error(Y_testrainy, Y_predrainy)\n",
    "mdae = median_absolute_error(Y_testrainy, Y_predrainy)\n",
    "\n",
    "# Imprimir resultados\n",
    "print(\"\\nEvaluación del Modelo con datos de la época lluviosa:\")\n",
    "print(f\"Media del Error Absoluto (MAE): {mae}\")\n",
    "print(f\"Mediana del Error Absoluto (MdAE): {mdae}\")"
   ]
  },
  {
   "cell_type": "code",
   "execution_count": null,
   "id": "7d5e9da7",
   "metadata": {},
   "outputs": [],
   "source": [
    "#---------------------------------EVALUACIÓN CON DATOS DE LA ÉPOCA SECA--------------------------------------------------------\n",
    "\n",
    "from sklearn.metrics import mean_squared_error, mean_absolute_error, median_absolute_error, r2_score\n",
    "\n",
    "# Se realiza la predicción\n",
    "Y_preddry = modelo.predict(X_testdry_poly)\n",
    "\n",
    "# Se sustituyen valores negativos de precipitación por cero\n",
    "for i in range(len(Y_preddry)):\n",
    "    media = testdry_conMedia.loc[i, 'Media_prec_mañana_Clim']\n",
    "    suma = Y_preddry[i]+media\n",
    "    if suma<0:\n",
    "        Y_preddry[i] = -media\n",
    "\n",
    "# Se evalúa el modelo\n",
    "mae = mean_absolute_error(Y_testdry, Y_preddry)\n",
    "mdae = median_absolute_error(Y_testdry, Y_preddry)\n",
    "\n",
    "# Imprimir resultados\n",
    "print(\"\\nEvaluación del Modelo con datos de la época seca:\")\n",
    "print(f\"Media del Error Absoluto (MAE): {mae}\")\n",
    "print(f\"Mediana del Error Absoluto (MdAE): {mdae}\")"
   ]
  },
  {
   "cell_type": "markdown",
   "id": "36dd72cb",
   "metadata": {},
   "source": [
    "++++++++++++++++++++++++++++++++++++++++++++++++++++++++++++++++++++++++++++++++++++++++++++++++++++++++++++++++++++++++\n",
    "++++++++++++++++++++++++++++++++++++++++++++++++++++++++++++++++++++++++++++++++++++++++++++++++++++++++++++++++++++++++"
   ]
  },
  {
   "cell_type": "markdown",
   "id": "b4861177",
   "metadata": {},
   "source": [
    "# ENTRENAMIENTO CON DATOS DE LA ÉPOCA LLUVIOSA"
   ]
  },
  {
   "cell_type": "markdown",
   "id": "0f3722fe",
   "metadata": {},
   "source": [
    "### ENTRENAMIENTO DEL MODELO"
   ]
  },
  {
   "cell_type": "code",
   "execution_count": null,
   "id": "0fc57121",
   "metadata": {},
   "outputs": [],
   "source": [
    "from sklearn import linear_model\n",
    "import joblib\n",
    "import time\n",
    "\n",
    "#Definir el algoritmo a utilizar\n",
    "modelo = linear_model.LinearRegression()\n",
    "\n",
    "start_time = time.time()\n",
    "modelo.fit(X_trainrainy_poly, Y_trainrainy)\n",
    "end_time = time.time()\n",
    "\n",
    "training_time = end_time - start_time\n",
    "\n",
    "# Guarda el modelo en un archivo\n",
    "joblib.dump(modelo, 'poly_regr_degree2_comb1_5days_rainytrain.pkl')\n",
    "\n",
    "print('EL MODELO HA SIDO ENTRENADO EXITOSAMENTE')\n",
    "print()\n",
    "print(f'Tiempo de entrenamiento: {training_time:.4f} segundos')"
   ]
  },
  {
   "cell_type": "code",
   "execution_count": null,
   "id": "3c0e76f6",
   "metadata": {},
   "outputs": [],
   "source": [
    "#Obtenemos los coeficientes del modelo\n",
    "coeficientes = modelo.coef_[0]\n",
    "nombres_coeficientes = nombres_caracteristicas\n",
    "\n",
    "# Imprimir resultados\n",
    "print('DATOS DEL MODELO:')\n",
    "print()\n",
    "print('Valor de las pendientes o coeficientes \"a\":')\n",
    "for nombre, coef in zip(nombres_coeficientes, coeficientes):\n",
    "    print(f'{nombre}: {coef}')\n",
    "print('Valor de la intersección o coeficiente \"b\":')\n",
    "print(modelo.intercept_)"
   ]
  },
  {
   "cell_type": "markdown",
   "id": "0be667b1",
   "metadata": {},
   "source": [
    "### EVALUACIÓN DEL MODELO"
   ]
  },
  {
   "cell_type": "code",
   "execution_count": null,
   "id": "ef0ca7be",
   "metadata": {},
   "outputs": [],
   "source": [
    "#---------------------------------EVALUACIÓN CON DATOS DE TODO EL AÑO--------------------------------------------------------\n",
    "\n",
    "from sklearn.metrics import mean_squared_error, mean_absolute_error, median_absolute_error, r2_score\n",
    "\n",
    "# Se realiza la predicción\n",
    "Y_predall = modelo.predict(X_testall_poly)\n",
    "\n",
    "# Se sustituyen valores negativos de precipitación por cero\n",
    "for i in range(len(Y_predall)):\n",
    "    media = testall_conMedia.loc[i, 'Media_prec_mañana_Clim']\n",
    "    suma = Y_predall[i]+media\n",
    "    if suma<0:\n",
    "        Y_predall[i] = -media\n",
    "    \n",
    "\n",
    "# Se evalúa el modelo\n",
    "mae = mean_absolute_error(Y_testall, Y_predall)\n",
    "mdae = median_absolute_error(Y_testall, Y_predall)\n",
    "\n",
    "# Imprimir resultados\n",
    "print(\"\\nEvaluación del Modelo con datos de todo el año:\")\n",
    "print(f\"Media del Error Absoluto (MAE): {mae}\")\n",
    "print(f\"Mediana del Error Absoluto (MdAE): {mdae}\")"
   ]
  },
  {
   "cell_type": "code",
   "execution_count": null,
   "id": "bb07d96f",
   "metadata": {},
   "outputs": [],
   "source": [
    "#---------------------------------EVALUACIÓN CON DATOS DE LA ÉPOCA LLUVIOSA--------------------------------------------------------\n",
    "\n",
    "from sklearn.metrics import mean_squared_error, mean_absolute_error, median_absolute_error, r2_score\n",
    "\n",
    "# Se realiza la predicción\n",
    "Y_predrainy = modelo.predict(X_testrainy_poly)\n",
    "\n",
    "# Se sustituyen valores negativos de precipitación por cero\n",
    "for i in range(len(Y_predrainy)):\n",
    "    media = testrainy_conMedia.loc[i, 'Media_prec_mañana_Clim']\n",
    "    suma = Y_predrainy[i]+media\n",
    "    if suma<0:\n",
    "        Y_predrainy[i] = -media\n",
    "\n",
    "# Se evalúa el modelo\n",
    "mae = mean_absolute_error(Y_testrainy, Y_predrainy)\n",
    "mdae = median_absolute_error(Y_testrainy, Y_predrainy)\n",
    "\n",
    "# Imprimir resultados\n",
    "print(\"\\nEvaluación del Modelo con datos de la época lluviosa:\")\n",
    "print(f\"Media del Error Absoluto (MAE): {mae}\")\n",
    "print(f\"Mediana del Error Absoluto (MdAE): {mdae}\")"
   ]
  },
  {
   "cell_type": "code",
   "execution_count": null,
   "id": "66a67707",
   "metadata": {},
   "outputs": [],
   "source": [
    "#---------------------------------EVALUACIÓN CON DATOS DE LA ÉPOCA SECA--------------------------------------------------------\n",
    "\n",
    "from sklearn.metrics import mean_squared_error, mean_absolute_error, median_absolute_error, r2_score\n",
    "\n",
    "# Se realiza la predicción\n",
    "Y_preddry = modelo.predict(X_testdry_poly)\n",
    "\n",
    "# Se sustituyen valores negativos de precipitación por cero\n",
    "for i in range(len(Y_preddry)):\n",
    "    media = testdry_conMedia.loc[i, 'Media_prec_mañana_Clim']\n",
    "    suma = Y_preddry[i]+media\n",
    "    if suma<0:\n",
    "        Y_preddry[i] = -media\n",
    "\n",
    "# Se evalúa el modelo\n",
    "mae = mean_absolute_error(Y_testdry, Y_preddry)\n",
    "mdae = median_absolute_error(Y_testdry, Y_preddry)\n",
    "\n",
    "# Imprimir resultados\n",
    "print(\"\\nEvaluación del Modelo con datos de la época seca:\")\n",
    "print(f\"Media del Error Absoluto (MAE): {mae}\")\n",
    "print(f\"Mediana del Error Absoluto (MdAE): {mdae}\")"
   ]
  },
  {
   "cell_type": "markdown",
   "id": "792848ca",
   "metadata": {},
   "source": [
    "++++++++++++++++++++++++++++++++++++++++++++++++++++++++++++++++++++++++++++++++++++++++++++++++++++++++++++++++++++++++\n",
    "++++++++++++++++++++++++++++++++++++++++++++++++++++++++++++++++++++++++++++++++++++++++++++++++++++++++++++++++++++++++"
   ]
  },
  {
   "cell_type": "markdown",
   "id": "67cd0de0",
   "metadata": {},
   "source": [
    "# ENTRENAMIENTO CON DATOS DE LA ÉPOCA SECA"
   ]
  },
  {
   "cell_type": "markdown",
   "id": "87289e99",
   "metadata": {},
   "source": [
    "### ENTRENAMIENTO DEL MODELO"
   ]
  },
  {
   "cell_type": "code",
   "execution_count": null,
   "id": "a00e55ea",
   "metadata": {},
   "outputs": [],
   "source": [
    "from sklearn import linear_model\n",
    "import joblib\n",
    "import time\n",
    "\n",
    "#Definir el algoritmo a utilizar\n",
    "modelo = linear_model.LinearRegression()\n",
    "\n",
    "start_time = time.time()\n",
    "modelo.fit(X_traindry_poly, Y_traindry)\n",
    "end_time = time.time()\n",
    "\n",
    "training_time = end_time - start_time\n",
    "\n",
    "# Guarda el modelo en un archivo\n",
    "joblib.dump(modelo, 'poly_regr_degree2_comb1_5days_drytrain.pkl')\n",
    "\n",
    "print('EL MODELO HA SIDO ENTRENADO EXITOSAMENTE')\n",
    "print()\n",
    "print(f'Tiempo de entrenamiento: {training_time:.4f} segundos')"
   ]
  },
  {
   "cell_type": "code",
   "execution_count": null,
   "id": "bcd9b9ce",
   "metadata": {},
   "outputs": [],
   "source": [
    "#Obtenemos los coeficientes del modelo\n",
    "coeficientes = modelo.coef_[0]\n",
    "nombres_coeficientes = nombres_caracteristicas\n",
    "\n",
    "# Imprimir resultados\n",
    "print('DATOS DEL MODELO:')\n",
    "print()\n",
    "print('Valor de las pendientes o coeficientes \"a\":')\n",
    "for nombre, coef in zip(nombres_coeficientes, coeficientes):\n",
    "    print(f'{nombre}: {coef}')\n",
    "print('Valor de la intersección o coeficiente \"b\":')\n",
    "print(modelo.intercept_)"
   ]
  },
  {
   "cell_type": "markdown",
   "id": "08a45684",
   "metadata": {},
   "source": [
    "### EVALUACIÓN DEL MODELO"
   ]
  },
  {
   "cell_type": "code",
   "execution_count": null,
   "id": "47d5b5a0",
   "metadata": {},
   "outputs": [],
   "source": [
    "#---------------------------------EVALUACIÓN CON DATOS DE TODO EL AÑO--------------------------------------------------------\n",
    "\n",
    "from sklearn.metrics import mean_squared_error, mean_absolute_error, median_absolute_error, r2_score\n",
    "\n",
    "# Se realiza la predicción\n",
    "Y_predall = modelo.predict(X_testall_poly)\n",
    "\n",
    "# Se sustituyen valores negativos de precipitación por cero\n",
    "for i in range(len(Y_predall)):\n",
    "    media = testall_conMedia.loc[i, 'Media_prec_mañana_Clim']\n",
    "    suma = Y_predall[i]+media\n",
    "    if suma<0:\n",
    "        Y_predall[i] = -media\n",
    "    \n",
    "\n",
    "# Se evalúa el modelo\n",
    "mae = mean_absolute_error(Y_testall, Y_predall)\n",
    "mdae = median_absolute_error(Y_testall, Y_predall)\n",
    "\n",
    "# Imprimir resultados\n",
    "print(\"\\nEvaluación del Modelo con datos de todo el año:\")\n",
    "print(f\"Media del Error Absoluto (MAE): {mae}\")\n",
    "print(f\"Mediana del Error Absoluto (MdAE): {mdae}\")"
   ]
  },
  {
   "cell_type": "code",
   "execution_count": null,
   "id": "fb60526e",
   "metadata": {},
   "outputs": [],
   "source": [
    "#---------------------------------EVALUACIÓN CON DATOS DE LA ÉPOCA LLUVIOSA--------------------------------------------------------\n",
    "\n",
    "from sklearn.metrics import mean_squared_error, mean_absolute_error, median_absolute_error, r2_score\n",
    "\n",
    "# Se realiza la predicción\n",
    "Y_predrainy = modelo.predict(X_testrainy_poly)\n",
    "\n",
    "# Se sustituyen valores negativos de precipitación por cero\n",
    "for i in range(len(Y_predrainy)):\n",
    "    media = testrainy_conMedia.loc[i, 'Media_prec_mañana_Clim']\n",
    "    suma = Y_predrainy[i]+media\n",
    "    if suma<0:\n",
    "        Y_predrainy[i] = -media\n",
    "\n",
    "# Se evalúa el modelo\n",
    "mae = mean_absolute_error(Y_testrainy, Y_predrainy)\n",
    "mdae = median_absolute_error(Y_testrainy, Y_predrainy)\n",
    "\n",
    "# Imprimir resultados\n",
    "print(\"\\nEvaluación del Modelo con datos de la época lluviosa:\")\n",
    "print(f\"Media del Error Absoluto (MAE): {mae}\")\n",
    "print(f\"Mediana del Error Absoluto (MdAE): {mdae}\")"
   ]
  },
  {
   "cell_type": "code",
   "execution_count": null,
   "id": "1c3af3bb",
   "metadata": {},
   "outputs": [],
   "source": [
    "#---------------------------------EVALUACIÓN CON DATOS DE LA ÉPOCA SECA--------------------------------------------------------\n",
    "\n",
    "from sklearn.metrics import mean_squared_error, mean_absolute_error, median_absolute_error, r2_score\n",
    "\n",
    "# Se realiza la predicción\n",
    "Y_preddry = modelo.predict(X_testdry_poly)\n",
    "\n",
    "# Se sustituyen valores negativos de precipitación por cero\n",
    "for i in range(len(Y_preddry)):\n",
    "    media = testdry_conMedia.loc[i, 'Media_prec_mañana_Clim']\n",
    "    suma = Y_preddry[i]+media\n",
    "    if suma<0:\n",
    "        Y_preddry[i] = -media\n",
    "\n",
    "# Se evalúa el modelo\n",
    "mae = mean_absolute_error(Y_testdry, Y_preddry)\n",
    "mdae = median_absolute_error(Y_testdry, Y_preddry)\n",
    "\n",
    "# Imprimir resultados\n",
    "print(\"\\nEvaluación del Modelo con datos de la época seca:\")\n",
    "print(f\"Media del Error Absoluto (MAE): {mae}\")\n",
    "print(f\"Mediana del Error Absoluto (MdAE): {mdae}\")"
   ]
  },
  {
   "cell_type": "code",
   "execution_count": null,
   "id": "f9d5c4cd",
   "metadata": {},
   "outputs": [],
   "source": []
  }
 ],
 "metadata": {
  "kernelspec": {
   "display_name": "Python 3 (ipykernel)",
   "language": "python",
   "name": "python3"
  },
  "language_info": {
   "codemirror_mode": {
    "name": "ipython",
    "version": 3
   },
   "file_extension": ".py",
   "mimetype": "text/x-python",
   "name": "python",
   "nbconvert_exporter": "python",
   "pygments_lexer": "ipython3",
   "version": "3.12.3"
  }
 },
 "nbformat": 4,
 "nbformat_minor": 5
}
