{
 "cells": [
  {
   "cell_type": "markdown",
   "id": "beb85e31",
   "metadata": {},
   "source": [
    "En este código se importa la base de datos que contiene los pronósticos de precipitación acumulada por período estacional, realizados por NextGen, así como los valores reales de precipitación que se midieron. Estos datos incluyen únicamente instancias de la época seca.\n",
    "\n",
    "Se realiza la evaluación de la siguiente variable objetivo:\n",
    "    \n",
    "3. Nivel cualitativo de precipitación acumulada estacional en términos de los percentiles de la Climatología (Variable categórica):\n",
    "\n",
    "    Se construye la matriz de confusión"
   ]
  },
  {
   "cell_type": "markdown",
   "id": "d85e657b",
   "metadata": {},
   "source": [
    "# IMPORTACIÓN DE DATOS Y LIBRERÍAS"
   ]
  },
  {
   "cell_type": "code",
   "execution_count": null,
   "id": "ae067641",
   "metadata": {},
   "outputs": [],
   "source": [
    "import pandas as pd\n",
    "from sklearn.metrics import confusion_matrix"
   ]
  },
  {
   "cell_type": "code",
   "execution_count": null,
   "id": "ee2dc863",
   "metadata": {},
   "outputs": [],
   "source": [
    "# Cargar datos desde Excel\n",
    "NextGen_DryData = pd.read_excel('NextGen_DryData.xlsx')\n",
    "\n",
    "print(NextGen_DryData)"
   ]
  },
  {
   "cell_type": "markdown",
   "id": "a631fb42",
   "metadata": {},
   "source": [
    "# EVALUACIÓN DE LA VARIABLE OBJETIVO: CLASIFICACIÓN POR PERCENTIL"
   ]
  },
  {
   "cell_type": "code",
   "execution_count": null,
   "id": "f72cdc2a",
   "metadata": {},
   "outputs": [],
   "source": [
    "# Obtención de datos\n",
    "\n",
    "real_Percentiles = NextGen_DryData['percentil_Real']\n",
    "predicho_Percentiles = NextGen_DryData['percentil_NextGEN']"
   ]
  },
  {
   "cell_type": "code",
   "execution_count": null,
   "id": "0dde055b",
   "metadata": {},
   "outputs": [],
   "source": [
    "# Generar la matriz de confusión\n",
    "ConfusionMatrix_Percentiles = confusion_matrix(real_Percentiles, predicho_Percentiles)\n",
    "\n",
    "print(f\"Matriz de confusión para las cotas fijas: \\n\\n{ConfusionMatrix_Percentiles}\")"
   ]
  },
  {
   "cell_type": "code",
   "execution_count": null,
   "id": "66b290dd",
   "metadata": {},
   "outputs": [],
   "source": []
  }
 ],
 "metadata": {
  "kernelspec": {
   "display_name": "Python 3 (ipykernel)",
   "language": "python",
   "name": "python3"
  },
  "language_info": {
   "codemirror_mode": {
    "name": "ipython",
    "version": 3
   },
   "file_extension": ".py",
   "mimetype": "text/x-python",
   "name": "python",
   "nbconvert_exporter": "python",
   "pygments_lexer": "ipython3",
   "version": "3.12.3"
  }
 },
 "nbformat": 4,
 "nbformat_minor": 5
}
