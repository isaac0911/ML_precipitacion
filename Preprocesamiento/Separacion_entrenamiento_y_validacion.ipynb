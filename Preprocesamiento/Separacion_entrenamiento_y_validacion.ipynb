{
 "cells": [
  {
   "cell_type": "markdown",
   "id": "545bb222",
   "metadata": {},
   "source": [
    "En el siguiente código se toma la base de datos, y se divide en dos partes:\n",
    "\n",
    "- Datos de entrenamiento (80%)\n",
    "- Datos de validación (20%)\n",
    "\n",
    "Los datos de entrenamiento y validación se separan a su vez en los datos correspondientes a la época lluviosa (may-oct) y los correspondientes a la época seca (nov-abr)."
   ]
  },
  {
   "cell_type": "markdown",
   "id": "cde2596c",
   "metadata": {},
   "source": [
    "# IMPORTACIÓN DE DATOS"
   ]
  },
  {
   "cell_type": "code",
   "execution_count": null,
   "id": "b4081f97",
   "metadata": {},
   "outputs": [],
   "source": [
    "# Importar paquetes\n",
    "import pandas as pd\n",
    "import numpy as np\n",
    "\n",
    "#importar la base de datos\n",
    "file_path = 'BaseDatosProcesada.xlsx'\n",
    "Datos = pd.read_excel(file_path)\n",
    "\n",
    "print(Datos)"
   ]
  },
  {
   "cell_type": "code",
   "execution_count": null,
   "id": "efb6eb74",
   "metadata": {},
   "outputs": [],
   "source": [
    "# Aleatorizar las filas\n",
    "Datos_aleatorizados = Datos.sample(frac=1, random_state=0).reset_index(drop=True)\n",
    "print(Datos_aleatorizados)"
   ]
  },
  {
   "cell_type": "markdown",
   "id": "65dd66d5",
   "metadata": {},
   "source": [
    "# ENTRENAMIENTO Y VALIDACIÓN TODO EL AÑO"
   ]
  },
  {
   "cell_type": "code",
   "execution_count": null,
   "id": "16da2650",
   "metadata": {},
   "outputs": [],
   "source": [
    "split_index = int(0.8 * len(Datos_aleatorizados))\n",
    "\n",
    "# Primer 80% de las filas (datos de entrenamiento)\n",
    "train_data = Datos_aleatorizados.iloc[:split_index].drop(columns=['Media_prec_mañana_Clim'])\n",
    "\n",
    "# Último 20% de las filas (datos de validación)\n",
    "test_data = Datos_aleatorizados.iloc[split_index:].drop(columns=['Media_prec_mañana_Clim'])\n",
    "\n",
    "test_data_conMedia = Datos_aleatorizados.iloc[split_index:]\n",
    "\n",
    "print(train_data, test_data, test_data_conMedia)"
   ]
  },
  {
   "cell_type": "code",
   "execution_count": null,
   "id": "cded0c8c",
   "metadata": {},
   "outputs": [],
   "source": [
    "# Guardar los datos de entrenamiento y validación en archivos Excel\n",
    "\n",
    "output_file_path = 'Train_all.xlsx'\n",
    "train_data.to_excel(output_file_path, index=False)\n",
    "\n",
    "output_file_path = 'Test_all.xlsx'\n",
    "test_data.to_excel(output_file_path, index=False)\n",
    "\n",
    "output_file_path = 'Test_all_conMedia.xlsx'\n",
    "test_data_conMedia.to_excel(output_file_path, index=False)"
   ]
  },
  {
   "cell_type": "markdown",
   "id": "da019419",
   "metadata": {},
   "source": [
    "# ENTRENAMIENTO ÉPOCA SECA Y LLUVIOSA"
   ]
  },
  {
   "cell_type": "code",
   "execution_count": null,
   "id": "9a20fdd1",
   "metadata": {},
   "outputs": [],
   "source": [
    "# Dividir los datos de entrenamiento en los que son de época lluviosa y los que son de época seca\n",
    "\n",
    "train_lluviosa = train_data[train_data['MES'].isin([5, 6, 7, 8, 9, 10])]\n",
    "train_seca = train_data[train_data['MES'].isin([11, 12, 1, 2, 3, 4])]\n",
    "\n",
    "print(train_lluviosa, train_seca)"
   ]
  },
  {
   "cell_type": "code",
   "execution_count": null,
   "id": "f23c60ca",
   "metadata": {},
   "outputs": [],
   "source": [
    "# Guardar los datos de entrenamiento de época seca y lluviosa en archivos Excel\n",
    "\n",
    "output_file_path = 'Train_rainy.xlsx'\n",
    "train_lluviosa.to_excel(output_file_path, index=False)\n",
    "\n",
    "output_file_path = 'Train_dry.xlsx'\n",
    "train_seca.to_excel(output_file_path, index=False)"
   ]
  },
  {
   "cell_type": "markdown",
   "id": "9d3e3b14",
   "metadata": {},
   "source": [
    "# VALIDACIÓN ÉPOCA SECA Y LLUVIOSA"
   ]
  },
  {
   "cell_type": "code",
   "execution_count": null,
   "id": "56dfdba1",
   "metadata": {},
   "outputs": [],
   "source": [
    "# Dividir los datos de validación en los que son de época lluviosa y los que son de época seca\n",
    "\n",
    "test_lluviosa = test_data[test_data['MES'].isin([5, 6, 7, 8, 9, 10])]\n",
    "test_seca = test_data[test_data['MES'].isin([11, 12, 1, 2, 3, 4])]\n",
    "\n",
    "test_lluviosa_conMedia = test_data_conMedia[test_data_conMedia['MES'].isin([5, 6, 7, 8, 9, 10])]\n",
    "test_seca_conMedia = test_data_conMedia[test_data_conMedia['MES'].isin([11, 12, 1, 2, 3, 4])]\n",
    "\n",
    "print(test_lluviosa, test_seca, test_lluviosa_conMedia, test_seca_conMedia)"
   ]
  },
  {
   "cell_type": "code",
   "execution_count": null,
   "id": "8711e09e",
   "metadata": {},
   "outputs": [],
   "source": [
    "# Guardar los datos de entrenamiento de época seca y lluviosa en archivos Excel\n",
    "\n",
    "output_file_path = 'Test_rainy.xlsx'\n",
    "test_lluviosa.to_excel(output_file_path, index=False)\n",
    "\n",
    "output_file_path = 'Test_dry.xlsx'\n",
    "test_seca.to_excel(output_file_path, index=False)\n",
    "\n",
    "output_file_path = 'Test_rainy_conMedia.xlsx'\n",
    "test_lluviosa_conMedia.to_excel(output_file_path, index=False)\n",
    "\n",
    "output_file_path = 'Test_dry_conMedia.xlsx'\n",
    "test_seca_conMedia.to_excel(output_file_path, index=False)"
   ]
  },
  {
   "cell_type": "code",
   "execution_count": null,
   "id": "61f25bd8",
   "metadata": {},
   "outputs": [],
   "source": []
  }
 ],
 "metadata": {
  "kernelspec": {
   "display_name": "Python 3 (ipykernel)",
   "language": "python",
   "name": "python3"
  },
  "language_info": {
   "codemirror_mode": {
    "name": "ipython",
    "version": 3
   },
   "file_extension": ".py",
   "mimetype": "text/x-python",
   "name": "python",
   "nbconvert_exporter": "python",
   "pygments_lexer": "ipython3",
   "version": "3.12.3"
  }
 },
 "nbformat": 4,
 "nbformat_minor": 5
}
