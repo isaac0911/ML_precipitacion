{
 "cells": [
  {
   "cell_type": "markdown",
   "id": "beb85e31",
   "metadata": {},
   "source": [
    "Se dispone de varios archivos raster en formato \".tif\", donde cada uno almacena el pronóstico de precipitación acumulada para un período estacional y año específico en todo el dominio geográfico de Guatemala; estas predicciones fueron obtenidas a partir del modelo NextGEN.\n",
    "\n",
    "Para cada uno de los archivos \".tif\" se realiza lo siguiente:\n",
    "\n",
    "01. Se toma el valor asociado a la ubicación geográfica de cada una de las estaciones meteorológicas.\n",
    "02. Para cada estación meteorológica, se generan la siguiente variable objetivo:\n",
    "    - Clasificación de la precipitación acumulada en cotas percentiles\n",
    "03. Luego, se agrega a dataframe el nombre de la estación, el período analizado (Ej. ASO), el año, la latitud y longitud de la estación, así como la variable objetivo pronosticadas por NextGEN\n",
    "\n",
    "Al finalizar el proces, el dataframe es exportado a un archivo en formato \".xlsx\""
   ]
  },
  {
   "cell_type": "markdown",
   "id": "c4af0148",
   "metadata": {},
   "source": [
    "# IMPORTACIÓN DE DATOS Y LIBRERÍAS"
   ]
  },
  {
   "cell_type": "code",
   "execution_count": null,
   "id": "a5905c2d",
   "metadata": {},
   "outputs": [],
   "source": [
    "import pandas as pd\n",
    "import rasterio\n",
    "from rasterio.sample import sample_gen\n",
    "import numpy as np\n",
    "import os\n",
    "from datetime import datetime"
   ]
  },
  {
   "cell_type": "code",
   "execution_count": null,
   "id": "0cfd3494",
   "metadata": {},
   "outputs": [],
   "source": [
    "# Cargar datos desde Excel\n",
    "estaciones_df = pd.read_excel('Datos_estaciones.xlsx')  # Archivo con latitud y longitud de cada estación\n",
    "climatologia_df = pd.read_excel('Climatologia_por_Periodos_Estacionales.xlsx')  # Archivo con climatología (media y percentiles de prec acum para cada perído estacional en cada estación meteorológica)"
   ]
  },
  {
   "cell_type": "markdown",
   "id": "3fd03e74",
   "metadata": {},
   "source": [
    "# DEFINICIÓN DE FUNCIONES"
   ]
  },
  {
   "cell_type": "code",
   "execution_count": null,
   "id": "defec21d",
   "metadata": {},
   "outputs": [],
   "source": [
    "# Función para extraer la precipitación de un archivo .tiff en todas las estaciones\n",
    "\n",
    "def obtener_precAcum_en_estaciones(ruta_tiff, latitudes, longitudes):\n",
    "    coords = [(lon, lat) for lon, lat in zip(longitudes, latitudes)]\n",
    "    with rasterio.open(ruta_tiff) as src:\n",
    "        precipitaciones = list(src.sample(coords))\n",
    "        precipitaciones = [x[0] for x in precipitaciones]  # Obtenemos solo la precipitación\n",
    "    return precipitaciones"
   ]
  },
  {
   "cell_type": "code",
   "execution_count": null,
   "id": "aac90121",
   "metadata": {},
   "outputs": [],
   "source": []
  },
  {
   "cell_type": "code",
   "execution_count": null,
   "id": "f2404375",
   "metadata": {},
   "outputs": [],
   "source": [
    "# Función para clasificar por percentiles\n",
    "\n",
    "def clasificar_percentiles(precAcum, p1_3, p2_3):\n",
    "    if p1_3 == 0 and p2_3 == 0:\n",
    "        return 0\n",
    "    else:\n",
    "        if precAcum <= p1_3:\n",
    "            return -1\n",
    "        elif precAcum >= p2_3:\n",
    "            return 1\n",
    "        else:\n",
    "            return 0"
   ]
  },
  {
   "cell_type": "markdown",
   "id": "757259a5",
   "metadata": {},
   "source": [
    "# PROCESAMIENTO DE ARCHIVOS .TIFF"
   ]
  },
  {
   "cell_type": "code",
   "execution_count": null,
   "id": "27f9983b",
   "metadata": {},
   "outputs": [],
   "source": [
    "# Procesar todos los archivos .tiff\n",
    "resultados = []\n",
    "ruta_tiffs = 'Archivos_tiff/'  # Ruta donde están almacenados los archivos .tiff"
   ]
  },
  {
   "cell_type": "code",
   "execution_count": null,
   "id": "dfbd2b2b",
   "metadata": {},
   "outputs": [],
   "source": [
    "# Ciclo principal de ejecución:\n",
    "\n",
    "for archivo_tiff in os.listdir(ruta_tiffs):\n",
    "    if archivo_tiff.endswith('.tif'):\n",
    "        \n",
    "        # Extraer el período y año del nombre del archivo (asumiendo formato [periodo]-[año].tiff)\n",
    "        Nombre_archivo = archivo_tiff.split('.')[0]\n",
    "        periodo = Nombre_archivo.split('-')[0]\n",
    "        año = Nombre_archivo.split('-')[1]\n",
    "        \n",
    "        # Extraer precipitación en las coordenadas de cada estación\n",
    "        latitudes = estaciones_df['Latitud'].values\n",
    "        longitudes = estaciones_df['Longitud'].values\n",
    "        precipitacionesAcum = obtener_precAcum_en_estaciones(os.path.join(ruta_tiffs, archivo_tiff), latitudes, longitudes)\n",
    "        \n",
    "        for i, estacion in estaciones_df.iterrows():\n",
    "            nombre_estacion = estacion['ESTACIÓN']\n",
    "            latitud = estacion['Latitud']\n",
    "            longitud = estacion['Longitud']\n",
    "            \n",
    "            # Obtener los datos de climatología para la fecha y estación\n",
    "            clima = climatologia_df[(climatologia_df['ESTACIÓN'] == nombre_estacion) & (climatologia_df['Periodo_estacional'] == periodo)]\n",
    "            media_clim = clima['Media'].values[0]\n",
    "            p1_3 = clima['Percentil_1_3'].values[0]\n",
    "            p2_3 = clima['Percentil_2_3'].values[0]\n",
    "            \n",
    "            # Precipitación predicha\n",
    "            precipAcum_predicha = precipitacionesAcum[i]\n",
    "            \n",
    "            # Clasificación por percentiles\n",
    "            percentil_clase = clasificar_percentiles(precipAcum_predicha, p1_3, p2_3)\n",
    "            \n",
    "            # Guardar resultados\n",
    "            resultados.append([nombre_estacion, periodo, año, latitud, longitud, percentil_clase])"
   ]
  },
  {
   "cell_type": "markdown",
   "id": "52501929",
   "metadata": {},
   "source": [
    "# Crear DataFrame final"
   ]
  },
  {
   "cell_type": "code",
   "execution_count": null,
   "id": "7be8e30e",
   "metadata": {},
   "outputs": [],
   "source": [
    "# Crear DataFrame final\n",
    "resultados_df = pd.DataFrame(resultados, columns=['Estacion', 'Periodo', 'Año', 'Latitud', 'Longitud', 'percentil_NextGEN'])\n",
    "\n",
    "# Exportar a Excel\n",
    "resultados_df.to_excel('PronósticosNextGen.xlsx', index=False)"
   ]
  },
  {
   "cell_type": "code",
   "execution_count": null,
   "id": "3dd2d721",
   "metadata": {},
   "outputs": [],
   "source": []
  }
 ],
 "metadata": {
  "kernelspec": {
   "display_name": "Python 3 (ipykernel)",
   "language": "python",
   "name": "python3"
  },
  "language_info": {
   "codemirror_mode": {
    "name": "ipython",
    "version": 3
   },
   "file_extension": ".py",
   "mimetype": "text/x-python",
   "name": "python",
   "nbconvert_exporter": "python",
   "pygments_lexer": "ipython3",
   "version": "3.12.3"
  }
 },
 "nbformat": 4,
 "nbformat_minor": 5
}
